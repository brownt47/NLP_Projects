{
  "nbformat": 4,
  "nbformat_minor": 0,
  "metadata": {
    "colab": {
      "name": "Parler ChatBot - v1.ipynb",
      "provenance": [],
      "collapsed_sections": [],
      "authorship_tag": "ABX9TyN/Xe6SQWV97vt2x8y/VEB0",
      "include_colab_link": true
    },
    "kernelspec": {
      "name": "python3",
      "display_name": "Python 3"
    },
    "language_info": {
      "name": "python"
    }
  },
  "cells": [
    {
      "cell_type": "markdown",
      "metadata": {
        "id": "view-in-github",
        "colab_type": "text"
      },
      "source": [
        "<a href=\"https://colab.research.google.com/github/brownt47/NLP_Projects/blob/main/Parler_ChatBot.ipynb\" target=\"_parent\"><img src=\"https://colab.research.google.com/assets/colab-badge.svg\" alt=\"Open In Colab\"/></a>"
      ]
    },
    {
      "cell_type": "code",
      "metadata": {
        "id": "eP9wnJyVaIZn"
      },
      "source": [
        "#!pip install markovify\n"
      ],
      "execution_count": 137,
      "outputs": []
    },
    {
      "cell_type": "code",
      "metadata": {
        "id": "dyOxlaFVaQ6i"
      },
      "source": [
        "import markovify\n",
        "import pandas as pd\n",
        "import numpy as np\n",
        "from nltk import ngrams\n",
        "import random"
      ],
      "execution_count": 138,
      "outputs": []
    },
    {
      "cell_type": "code",
      "metadata": {
        "id": "6EZzFKUkp-IJ"
      },
      "source": [
        "filename = pd.read_csv('comments - Copy.txt')"
      ],
      "execution_count": 139,
      "outputs": []
    },
    {
      "cell_type": "markdown",
      "metadata": {
        "id": "1E1r6DxcqRuX"
      },
      "source": [
        "# Build the markovify models for various n-grams"
      ]
    },
    {
      "cell_type": "code",
      "metadata": {
        "id": "Bmz9s0_6JoIb"
      },
      "source": [
        "text_model2 = markovify.NewlineText(filename.x, state_size=2, well_formed=False)\n",
        "text_model3 = markovify.NewlineText(filename.x, state_size=3, well_formed=False)\n",
        "text_model4 = markovify.NewlineText(filename.x, state_size=4, well_formed=False)\n",
        "text_model5 = markovify.NewlineText(filename.x, state_size=5, well_formed=False)\n"
      ],
      "execution_count": 140,
      "outputs": []
    },
    {
      "cell_type": "markdown",
      "metadata": {
        "id": "MBdp5UHVnX-O"
      },
      "source": [
        "## n-grams = 2"
      ]
    },
    {
      "cell_type": "code",
      "metadata": {
        "colab": {
          "base_uri": "https://localhost:8080/"
        },
        "id": "E1U7V2f5nW4L",
        "outputId": "1eb70681-2426-4fb4-feaf-4ca09976dd9e"
      },
      "source": [
        "for i in range(5):\n",
        "    print(text_model2.make_sentence(tries=1000) + \"\\n\")"
      ],
      "execution_count": 150,
      "outputs": [
        {
          "output_type": "stream",
          "name": "stdout",
          "text": [
            "\"And with #PresidentTrump's long reach ... #Republicans better keep up the good men and that he waited almost 5 decades into his ears.\n",
            "\n",
            "@Azgt78 Not that easy if you're interested in this world if you're #antitrump #blm #lgbtq #acab #alt or someone cool 💖\n",
            "\n",
            "Youd6be surprised. Sometimes, with random people, if My people who are awake it’s no wonder people are waking up. We can chat again in Twitter timeout for 2 days. Take care.\n",
            "\n",
            "Mil involved in alot of toys as will yours won’t be disrespectful even if they are unmistakably soldiers of the KKK just means you’re as dumb as shit\n",
            "\n",
            "Sean Misko—the NSC staffer who would win the election from here ☺️\n",
            "\n"
          ]
        }
      ]
    },
    {
      "cell_type": "markdown",
      "metadata": {
        "id": "C0bUefQcndPG"
      },
      "source": [
        "# n-grams = 3"
      ]
    },
    {
      "cell_type": "code",
      "metadata": {
        "colab": {
          "base_uri": "https://localhost:8080/"
        },
        "id": "XoDHd3VfnWwi",
        "outputId": "cf0d5cd4-9c4c-4861-f1d9-19558c48d030"
      },
      "source": [
        "for i in range(5):\n",
        "    print(text_model3.make_sentence(tries=1000) + \"\\n\")"
      ],
      "execution_count": 151,
      "outputs": [
        {
          "output_type": "stream",
          "name": "stdout",
          "text": [
            "@BidenIsThePresidentElect Isn't there an unsucked black dick out there somewhere, bud? Shouldn't you be saying that it isn't a right, that it is finished!\"\n",
            "\n",
            "@Barecat1935 I'm shaking in my shoes 😂 you obviously don't know the problem of living paycheck to paycheck.\n",
            "\n",
            "Now that is SO big why would you concede the election to defeat Mitch McConnell?\n",
            "\n",
            "It's hard for her not to lose hope in such a way that surpassed Obama? Nope nothing to see here...just 600k votes for Biden\n",
            "\n",
            "@hereticx I did firearms training, probably not as much as possible, especially not to watch the Presidential Inauguration regardlessof whoever Wins?\n",
            "\n"
          ]
        }
      ]
    },
    {
      "cell_type": "markdown",
      "metadata": {
        "id": "b6B1UGPlnjLk"
      },
      "source": [
        "# n-grams = 4"
      ]
    },
    {
      "cell_type": "code",
      "metadata": {
        "colab": {
          "base_uri": "https://localhost:8080/"
        },
        "id": "t_pFF9Otfcx6",
        "outputId": "7d0b93b2-cbdd-469f-9d10-f58e78b5eab0"
      },
      "source": [
        "for i in range(5):\n",
        "    print(text_model4.make_sentence(tries=1000) + \"\\n\")"
      ],
      "execution_count": 152,
      "outputs": [
        {
          "output_type": "stream",
          "name": "stdout",
          "text": [
            "@peacefly3 Very nice to meet you! Let me know when and where.\n",
            "\n",
            "4.. The Insistence of Donald Trump that he won the election and then in the middle of the night\n",
            "\n",
            "@Scotkop Good to know people like you are ok with even a little censorship\n",
            "\n",
            "Secretary Pompeo: \"There Will Be a Smooth Transition to the Second Trump Administration\" (VIDEO)\n",
            "\n",
            "Like the far left, I too think AOC should get more than a few times, can anyone validate this?? Look at the red banner...\n",
            "\n"
          ]
        }
      ]
    },
    {
      "cell_type": "markdown",
      "metadata": {
        "id": "w-TZcjf-nnmD"
      },
      "source": [
        "# n-grams = 5"
      ]
    },
    {
      "cell_type": "code",
      "metadata": {
        "colab": {
          "base_uri": "https://localhost:8080/"
        },
        "id": "oxnZFqGbnqJB",
        "outputId": "12a16038-2438-4bc7-ccc9-78e07b2a1c7d"
      },
      "source": [
        "\n",
        "for i in range(5):\n",
        "  line = None\n",
        "  while line == None: \n",
        "    line = text_model5.make_sentence(tries=1000)\n",
        "  print(str(line) + \"\\n\")"
      ],
      "execution_count": 145,
      "outputs": [
        {
          "output_type": "stream",
          "name": "stdout",
          "text": [
            "This is insane! Which is it - the left or the right . It is weather your on the right side of history.\n",
            "\n",
            "The win needs to be with SCOTUS and not the court of public opinion. And not from whoever feeds you misinformation.\n",
            "\n",
            "I want to know how the President of the United States.\" I stand right there with you!\n",
            "\n",
            "#parler #wwg1wga #maga #kag #newuser #news #trump2020 #trump #america #qanon #qarmy #areqawake #patriots #thegreatawakening #stopcensorship #freedom #freespeech #teamtrump #republican #antilgtb #whitelivesmatter #police #bluelivesmatter #christian FOLLOW,ECHO AND VOTE PLEASE\n",
            "\n",
            "Stay in your bubble, the rest of us who live in the real world and know nothing about life.\n",
            "\n"
          ]
        }
      ]
    },
    {
      "cell_type": "markdown",
      "metadata": {
        "id": "3JiJZn3mjKw5"
      },
      "source": [
        "# Create Storybook"
      ]
    },
    {
      "cell_type": "code",
      "metadata": {
        "id": "LmWgbmF4jeQE"
      },
      "source": [
        "storybook = \"\""
      ],
      "execution_count": 146,
      "outputs": []
    },
    {
      "cell_type": "code",
      "metadata": {
        "id": "SqYgQkhrfqzy"
      },
      "source": [
        "for comment in filename.x:\n",
        "  storybook = storybook + str(comment) + \".  \"\n",
        "  "
      ],
      "execution_count": 147,
      "outputs": []
    },
    {
      "cell_type": "markdown",
      "metadata": {
        "id": "fKoS2pMliUXN"
      },
      "source": [
        "## NLTK"
      ]
    },
    {
      "cell_type": "code",
      "metadata": {
        "colab": {
          "base_uri": "https://localhost:8080/"
        },
        "id": "vxZ9Ai11iOiO",
        "outputId": "f4d33da3-651e-45bd-eec0-6737532c5a2f"
      },
      "source": [
        "text = storybook\n",
        "n = 3\n",
        "\n",
        "n_grams = list(ngrams(text.split(), n))\n",
        "\n",
        "sentence = ''\n",
        "\n",
        "for i in range(5):\n",
        "    r = random.randint(0,50)\n",
        "    next_word = n_grams[r]\n",
        "    sentence = sentence + ' ' + str(next_word)\n",
        "\n",
        "print(sentence)"
      ],
      "execution_count": 149,
      "outputs": [
        {
          "output_type": "stream",
          "name": "stdout",
          "text": [
            " ('🏴\\U000e0067\\U000e0062\\U000e0065\\U000e006e\\U000e0067\\U000e007f🇬🇧👍.', 'ALL', 'DO..') ('ON', 'TV', '📺.') ('Hodkinson,', 'Chairman', 'of') ('IS', 'USELESS', 'TOO') ('the', 'Royal', 'College')\n"
          ]
        }
      ]
    },
    {
      "cell_type": "code",
      "metadata": {
        "id": "1DAA-BzgihId"
      },
      "source": [
        ""
      ],
      "execution_count": 149,
      "outputs": []
    }
  ]
}