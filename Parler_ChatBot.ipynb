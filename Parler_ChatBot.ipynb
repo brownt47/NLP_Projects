{
  "nbformat": 4,
  "nbformat_minor": 0,
  "metadata": {
    "colab": {
      "name": "Parler ChatBot - v1.ipynb",
      "provenance": [],
      "collapsed_sections": [],
      "authorship_tag": "ABX9TyOI0Tn4KUEdi2gVpljUJ8OS",
      "include_colab_link": true
    },
    "kernelspec": {
      "name": "python3",
      "display_name": "Python 3"
    },
    "language_info": {
      "name": "python"
    }
  },
  "cells": [
    {
      "cell_type": "markdown",
      "metadata": {
        "id": "view-in-github",
        "colab_type": "text"
      },
      "source": [
        "<a href=\"https://colab.research.google.com/github/brownt47/NLP_Projects/blob/main/Parler_ChatBot.ipynb\" target=\"_parent\"><img src=\"https://colab.research.google.com/assets/colab-badge.svg\" alt=\"Open In Colab\"/></a>"
      ]
    },
    {
      "cell_type": "code",
      "metadata": {
        "id": "eP9wnJyVaIZn"
      },
      "source": [
        "#!pip install markovify\n"
      ],
      "execution_count": 192,
      "outputs": []
    },
    {
      "cell_type": "code",
      "metadata": {
        "id": "dyOxlaFVaQ6i"
      },
      "source": [
        "import markovify\n",
        "import pandas as pd\n",
        "import numpy as np\n",
        "from nltk import ngrams\n",
        "import random"
      ],
      "execution_count": 193,
      "outputs": []
    },
    {
      "cell_type": "markdown",
      "metadata": {
        "id": "NOhLuiOu2Io2"
      },
      "source": [
        "## Import the comments"
      ]
    },
    {
      "cell_type": "code",
      "metadata": {
        "id": "6EZzFKUkp-IJ"
      },
      "source": [
        "data = pd.read_csv('comments.csv')\n",
        "data.columns = ['comment']"
      ],
      "execution_count": 219,
      "outputs": []
    },
    {
      "cell_type": "code",
      "metadata": {
        "colab": {
          "base_uri": "https://localhost:8080/"
        },
        "id": "JmJeyOSawSwE",
        "outputId": "f7ec1e30-d856-4c0a-cf5a-d7aaa5c375f8"
      },
      "source": [
        "len(data)"
      ],
      "execution_count": 220,
      "outputs": [
        {
          "output_type": "execute_result",
          "data": {
            "text/plain": [
              "37268"
            ]
          },
          "metadata": {},
          "execution_count": 220
        }
      ]
    },
    {
      "cell_type": "code",
      "metadata": {
        "colab": {
          "base_uri": "https://localhost:8080/",
          "height": 409
        },
        "id": "HyVINqYTwVOe",
        "outputId": "c712d4e8-10c9-44d5-ab28-f25fe6996bf0"
      },
      "source": [
        "data"
      ],
      "execution_count": 221,
      "outputs": [
        {
          "output_type": "execute_result",
          "data": {
            "text/html": [
              "<div>\n",
              "<style scoped>\n",
              "    .dataframe tbody tr th:only-of-type {\n",
              "        vertical-align: middle;\n",
              "    }\n",
              "\n",
              "    .dataframe tbody tr th {\n",
              "        vertical-align: top;\n",
              "    }\n",
              "\n",
              "    .dataframe thead th {\n",
              "        text-align: right;\n",
              "    }\n",
              "</style>\n",
              "<table border=\"1\" class=\"dataframe\">\n",
              "  <thead>\n",
              "    <tr style=\"text-align: right;\">\n",
              "      <th></th>\n",
              "      <th>comment</th>\n",
              "    </tr>\n",
              "  </thead>\n",
              "  <tbody>\n",
              "    <tr>\n",
              "      <th>0</th>\n",
              "      <td>🇺🇸🇺🇸🇺🇸🇺🇸🇺🇸🇺🇸🇺🇸🇺🇸🇺🇸🇺🇸🇺🇸🇺🇸🇺🇸🇺🇸🇺🇸🇺🇸🇺🇸RESPECT!🇺🇸🇺🇸...</td>\n",
              "    </tr>\n",
              "    <tr>\n",
              "      <th>1</th>\n",
              "      <td>Echo!</td>\n",
              "    </tr>\n",
              "    <tr>\n",
              "      <th>2</th>\n",
              "      <td>🏴󠁧󠁢󠁥󠁮󠁧󠁿🇬🇧👍</td>\n",
              "    </tr>\n",
              "    <tr>\n",
              "      <th>3</th>\n",
              "      <td>ALL DO.. I WILL WATCH WHEN THEY GIVE HIM THE L...</td>\n",
              "    </tr>\n",
              "    <tr>\n",
              "      <th>4</th>\n",
              "      <td>“STOP ALL Testing” Says Top Pathologist &amp; COVI...</td>\n",
              "    </tr>\n",
              "    <tr>\n",
              "      <th>...</th>\n",
              "      <td>...</td>\n",
              "    </tr>\n",
              "    <tr>\n",
              "      <th>37263</th>\n",
              "      <td>I just joined Parler! Looking forward to meeti...</td>\n",
              "    </tr>\n",
              "    <tr>\n",
              "      <th>37264</th>\n",
              "      <td>Why the prospective $70 billion buyout of Walg...</td>\n",
              "    </tr>\n",
              "    <tr>\n",
              "      <th>37265</th>\n",
              "      <td>The tree of liberty needs to be refreshed ... ...</td>\n",
              "    </tr>\n",
              "    <tr>\n",
              "      <th>37266</th>\n",
              "      <td>MeToo Movement Refused to Help Woman Who Accus...</td>\n",
              "    </tr>\n",
              "    <tr>\n",
              "      <th>37267</th>\n",
              "      <td>THE SUPREME COURT WILL.</td>\n",
              "    </tr>\n",
              "  </tbody>\n",
              "</table>\n",
              "<p>37268 rows × 1 columns</p>\n",
              "</div>"
            ],
            "text/plain": [
              "                                                 comment\n",
              "0      🇺🇸🇺🇸🇺🇸🇺🇸🇺🇸🇺🇸🇺🇸🇺🇸🇺🇸🇺🇸🇺🇸🇺🇸🇺🇸🇺🇸🇺🇸🇺🇸🇺🇸RESPECT!🇺🇸🇺🇸...\n",
              "1                                                  Echo!\n",
              "2                                             🏴󠁧󠁢󠁥󠁮󠁧󠁿🇬🇧👍\n",
              "3      ALL DO.. I WILL WATCH WHEN THEY GIVE HIM THE L...\n",
              "4      “STOP ALL Testing” Says Top Pathologist & COVI...\n",
              "...                                                  ...\n",
              "37263  I just joined Parler! Looking forward to meeti...\n",
              "37264  Why the prospective $70 billion buyout of Walg...\n",
              "37265  The tree of liberty needs to be refreshed ... ...\n",
              "37266  MeToo Movement Refused to Help Woman Who Accus...\n",
              "37267                            THE SUPREME COURT WILL.\n",
              "\n",
              "[37268 rows x 1 columns]"
            ]
          },
          "metadata": {},
          "execution_count": 221
        }
      ]
    },
    {
      "cell_type": "markdown",
      "metadata": {
        "id": "1E1r6DxcqRuX"
      },
      "source": [
        "# Build the markovify models for various n-grams"
      ]
    },
    {
      "cell_type": "code",
      "metadata": {
        "id": "Bmz9s0_6JoIb"
      },
      "source": [
        "corpus = data.comment\n",
        "text_model1 = markovify.NewlineText(corpus, state_size=1, well_formed=False)\n",
        "text_model2 = markovify.NewlineText(corpus, state_size=2, well_formed=False)\n",
        "text_model3 = markovify.NewlineText(corpus, state_size=3, well_formed=False)\n",
        "text_model4 = markovify.NewlineText(corpus, state_size=4, well_formed=False)\n",
        "text_model5 = markovify.NewlineText(corpus, state_size=5, well_formed=False)\n"
      ],
      "execution_count": 222,
      "outputs": []
    },
    {
      "cell_type": "markdown",
      "metadata": {
        "id": "ej6Blu9s0-iu"
      },
      "source": [
        "## Helper function to generate 5 comments"
      ]
    },
    {
      "cell_type": "code",
      "metadata": {
        "id": "N_tTHCTv0GFc"
      },
      "source": [
        "def posts(model, n):\n",
        "  for i in range(n):\n",
        "    line = None\n",
        "    while line == None: \n",
        "      line = model.make_sentence(tries=1000,max_overlap_ratio = .8)\n",
        "    print(str(line) + \"\\n\")"
      ],
      "execution_count": 244,
      "outputs": []
    },
    {
      "cell_type": "markdown",
      "metadata": {
        "id": "HSeRlKTpxEL9"
      },
      "source": [
        "## n-grams = 1"
      ]
    },
    {
      "cell_type": "code",
      "metadata": {
        "colab": {
          "base_uri": "https://localhost:8080/"
        },
        "id": "ozdGr6yqxD4L",
        "outputId": "6ebdf5a3-02f3-4c5e-aafd-60da830e0d31"
      },
      "source": [
        "posts(text_model1, 5)"
      ],
      "execution_count": 245,
      "outputs": [
        {
          "output_type": "stream",
          "name": "stdout",
          "text": [
            "@epochtimes @pjw @infowars @DanaLoesch ‘s been to drop your great nation.\n",
            "\n",
            "Remedy: To Play James has swung in the party. The more about it... You’re just joined Parler! Looking forward to wake up for the smoke what public decency' on FOX BUSINESS. There has called wrong\n",
            "\n",
            "If you need to be the YouTube\n",
            "\n",
            "I'm tired of foreign and his 3 whole Ponzi scheme to Die is hurl 🤮🤮🤮\n",
            "\n",
            "#Maga #KAG #Q #Qanon #QArmy #NRA #USA #PJNET #AllLivesMatter #ALM #America #USA #1a #2ndamendment\n",
            "\n"
          ]
        }
      ]
    },
    {
      "cell_type": "markdown",
      "metadata": {
        "id": "MBdp5UHVnX-O"
      },
      "source": [
        "## n-grams = 2"
      ]
    },
    {
      "cell_type": "code",
      "metadata": {
        "colab": {
          "base_uri": "https://localhost:8080/"
        },
        "id": "E1U7V2f5nW4L",
        "outputId": "6e6f61e0-3b4f-4bad-d4de-0d47464837fe"
      },
      "source": [
        "posts(text_model2, 5)"
      ],
      "execution_count": 226,
      "outputs": [
        {
          "output_type": "stream",
          "name": "stdout",
          "text": [
            "Maybe....maybe the problem ya piece of evidence that she was a Marxist? Yeah...... #whatexactlydoyoustandforagain #truth #darktolight #themoreyouknow\n",
            "\n",
            "“Do not concede by Sunday at noon, we will see the problem happens when you have to get to lick themselves..\n",
            "\n",
            "While you were mad because some fringe person said something insane?\n",
            "\n",
            "My heart goes out to him next. It may have some resentment toward Jewish people? I wonder how many NBA, NFL, MLB or NHL players have died? 0. How many 2018 Democrats won by him\n",
            "\n",
            "That would help a woman to the election how about we cancel the #cabal ....\n",
            "\n"
          ]
        }
      ]
    },
    {
      "cell_type": "markdown",
      "metadata": {
        "id": "C0bUefQcndPG"
      },
      "source": [
        "# n-grams = 3"
      ]
    },
    {
      "cell_type": "code",
      "metadata": {
        "colab": {
          "base_uri": "https://localhost:8080/"
        },
        "id": "XoDHd3VfnWwi",
        "outputId": "129b26f0-5746-4397-cdf0-10f5486cff3e"
      },
      "source": [
        "posts(text_model3, 5)"
      ],
      "execution_count": 227,
      "outputs": [
        {
          "output_type": "stream",
          "name": "stdout",
          "text": [
            "I am much calmer than I was yesterday. I am trying to find a email from @brightswimwear! If you go to elementary school?\n",
            "\n",
            "@Planeofthought Reading books on gender studies and critical race theory 😂😂😂😂 you have been blessed with your various avenues to bring your messaging to millions of Americans.\n",
            "\n",
            "If you truly want to know why our Republican are not fighting back harder\n",
            "\n",
            "@AmericanLivesMatter 😂 I blocked her, I told her to eat half and separated the food on the table.\n",
            "\n",
            "Happy Veterans Day to all my followers.\n",
            "\n"
          ]
        }
      ]
    },
    {
      "cell_type": "markdown",
      "metadata": {
        "id": "b6B1UGPlnjLk"
      },
      "source": [
        "# n-grams = 4"
      ]
    },
    {
      "cell_type": "code",
      "metadata": {
        "colab": {
          "base_uri": "https://localhost:8080/"
        },
        "id": "t_pFF9Otfcx6",
        "outputId": "9a22dc5d-7306-4151-d9b0-53cc0dd71314"
      },
      "source": [
        "posts(text_model4, 5)"
      ],
      "execution_count": 228,
      "outputs": [
        {
          "output_type": "stream",
          "name": "stdout",
          "text": [
            "Maybe your issue is that you need to do drugs to feel better about yourself. Get some help.\n",
            "\n",
            "Watch this if you love America the beautiful, she's in danger and we need to fight for the people!\n",
            "\n",
            "Hoping some of my friends at Twitter will come over to Parler for the good vibes, no more one sided expression!!!\n",
            "\n",
            "Oregon needs to be checked for earpiece\n",
            "\n",
            "Happy Thanksgiving to all you Misfits out there! To all of you conductors out there...you inspired me to build a train.\n",
            "\n"
          ]
        }
      ]
    },
    {
      "cell_type": "markdown",
      "metadata": {
        "id": "w-TZcjf-nnmD"
      },
      "source": [
        "# n-grams = 5"
      ]
    },
    {
      "cell_type": "code",
      "metadata": {
        "colab": {
          "base_uri": "https://localhost:8080/"
        },
        "id": "oxnZFqGbnqJB",
        "outputId": "b7b38bf2-cb63-41ef-a882-b0530f2ae9a5"
      },
      "source": [
        "posts(text_model5, 5)"
      ],
      "execution_count": 229,
      "outputs": [
        {
          "output_type": "stream",
          "name": "stdout",
          "text": [
            "The win needs to be with SCOTUS and not the court of public opinion. And not from whoever feeds you misinformation.\n",
            "\n",
            "Democrats keep screaming Donald J. Trump is a President for ALL the people.\n",
            "\n",
            "@GARepublicanAgainstTrump quite a few but it would take me a while to get used to.\n",
            "\n",
            "@TruthEvidenceFacts Oh, my bad. Now I see what you are talking about. Wtf is slader?\n",
            "\n",
            "Liberals on Trump going to a church : SWOON! HE'S A LEADER! WHAT A HUMANITARIAN!\n",
            "\n"
          ]
        }
      ]
    },
    {
      "cell_type": "markdown",
      "metadata": {
        "id": "3JiJZn3mjKw5"
      },
      "source": [
        "# Create Storybook\n",
        "> #### Concatenates all comments into one confusing story."
      ]
    },
    {
      "cell_type": "code",
      "metadata": {
        "id": "LmWgbmF4jeQE"
      },
      "source": [
        "storybook = \"\""
      ],
      "execution_count": 230,
      "outputs": []
    },
    {
      "cell_type": "code",
      "metadata": {
        "id": "SqYgQkhrfqzy"
      },
      "source": [
        "for comment in filename.x:\n",
        "  storybook = storybook + str(comment) + \".  \"  \n",
        "  #correct, two spaces after the period.  Some habits refuse to die.\n",
        "  "
      ],
      "execution_count": 231,
      "outputs": []
    },
    {
      "cell_type": "code",
      "metadata": {
        "colab": {
          "base_uri": "https://localhost:8080/"
        },
        "id": "64GblyTFwO_u",
        "outputId": "e41398f4-9084-4ab2-9104-46e3213994ad"
      },
      "source": [
        "len(storybook)"
      ],
      "execution_count": 232,
      "outputs": [
        {
          "output_type": "execute_result",
          "data": {
            "text/plain": [
              "4986881"
            ]
          },
          "metadata": {},
          "execution_count": 232
        }
      ]
    },
    {
      "cell_type": "markdown",
      "metadata": {
        "id": "AopauYZ24Rfb"
      },
      "source": [
        "### Create markovify models based on the storybook"
      ]
    },
    {
      "cell_type": "code",
      "metadata": {
        "id": "CxfQUNFoydFn"
      },
      "source": [
        "story_model1 = markovify.NewlineText(storybook, state_size=1, well_formed=False)\n",
        "story_model2 = markovify.NewlineText(storybook, state_size=2, well_formed=False)\n",
        "story_model3 = markovify.NewlineText(storybook, state_size=3, well_formed=False)\n",
        "story_model4 = markovify.NewlineText(storybook, state_size=4, well_formed=False)\n",
        "story_model5 = markovify.NewlineText(storybook, state_size=5, well_formed=False)"
      ],
      "execution_count": 246,
      "outputs": []
    },
    {
      "cell_type": "code",
      "metadata": {
        "id": "SWIG3MFv5fpN"
      },
      "source": [
        ""
      ],
      "execution_count": null,
      "outputs": []
    },
    {
      "cell_type": "markdown",
      "metadata": {
        "id": "vOrH4PoS5gvo"
      },
      "source": [
        "## Helper function to generate long comments or rants"
      ]
    },
    {
      "cell_type": "code",
      "metadata": {
        "id": "WIeFr_lM5gvp"
      },
      "source": [
        "def rant(model, n, length):\n",
        "  for i in range(n):\n",
        "    line = None\n",
        "    while line == None:\n",
        "      line = model.make_sentence(tries=1000,max_overlap_ratio = .8)\n",
        "      if (line != None and len(line)<length): line=None\n",
        "    print(str(line) + \"\\n\")"
      ],
      "execution_count": 270,
      "outputs": []
    },
    {
      "cell_type": "code",
      "metadata": {
        "colab": {
          "base_uri": "https://localhost:8080/"
        },
        "id": "g6gP4p6cyvC-",
        "outputId": "f5670b5c-4692-4928-9bc4-41db76e379a0"
      },
      "source": [
        "rant(story_model1, 1, 300)"
      ],
      "execution_count": 271,
      "outputs": [
        {
          "output_type": "stream",
          "name": "stdout",
          "text": [
            "We will cling to me, I think a wife, or re-writing history. The singular lesson you who has changed. Trump rally tonight LIVE! At least I just the exchange. Dave Rubin on a living,feed their political bias and the way to see history of friends behind his rallies where are being raped.. @Pierskaren69 OK, this are not shure how will be on Video Shows just makes one man I'm confused and fights with other managed to end but man with\n",
            "\n"
          ]
        }
      ]
    },
    {
      "cell_type": "code",
      "metadata": {
        "colab": {
          "base_uri": "https://localhost:8080/"
        },
        "id": "H5F88qvB4Z04",
        "outputId": "6d1bc22e-9d6e-4882-8499-05314f63fcc0"
      },
      "source": [
        "rant(story_model2, 1, 300)"
      ],
      "execution_count": 272,
      "outputs": [
        {
          "output_type": "stream",
          "name": "stdout",
          "text": [
            "And my success didn’t happen over night. I failed more than 10 years. So can we come before a court that rejects your case to a rally, I felt like I said no! So I guess mom hasn’t made you piss yourself and be respectful and mourn, not the boogie man you fool!!. @CarpenterFor45 heterophobia doesn’t exist.\n",
            "\n"
          ]
        }
      ]
    },
    {
      "cell_type": "code",
      "metadata": {
        "colab": {
          "base_uri": "https://localhost:8080/"
        },
        "id": "Cz44bPAp4Zox",
        "outputId": "4d393676-e97c-46d2-c7c1-69b81cf43b39"
      },
      "source": [
        "rant(story_model3, 1, 300)"
      ],
      "execution_count": 273,
      "outputs": [
        {
          "output_type": "stream",
          "name": "stdout",
          "text": [
            "The media is gaslighting America on behalf of #honestelections. They're pushing for people to work harder, not to mention President Trump got 10 million+ more votes the second time my granddaughter took her toys out of her hand - by poll workers. Constant threats of being thrown out and a new election overseen by the military.\n",
            "\n"
          ]
        }
      ]
    },
    {
      "cell_type": "code",
      "metadata": {
        "colab": {
          "base_uri": "https://localhost:8080/"
        },
        "id": "L1CX5Hx04Zgu",
        "outputId": "59eb8e75-520f-469b-a64b-0d854498aa28"
      },
      "source": [
        "rant(story_model4,1, 200)"
      ],
      "execution_count": 275,
      "outputs": [
        {
          "output_type": "stream",
          "name": "stdout",
          "text": [
            "#trump #maga #donaldtrump #usa #republican #conservative #america #politics #memes #makeamericagreatagain #trumptrain #keepamericagreat #qanon #election #joebiden #democrats #trumpsupporters #trumpmemes #vote #meme #alllivesmatter\n",
            "\n"
          ]
        }
      ]
    },
    {
      "cell_type": "code",
      "metadata": {
        "colab": {
          "base_uri": "https://localhost:8080/"
        },
        "id": "rOsSwcDR4ZXw",
        "outputId": "5020cb53-9d1f-41da-bae9-b33ca8eb9b1e"
      },
      "source": [
        "rant(story_model5, 1, 200)"
      ],
      "execution_count": 278,
      "outputs": [
        {
          "output_type": "stream",
          "name": "stdout",
          "text": [
            "@moon52 @deplorableearl @fatherofessen @hadati @janaurora @lakemonstercl @mickelodoole @ak1coleman @carolsievers88 @cmccbyfaith @tc69 @pinkk9lover @meetmichael @phoenixrising @dsware123 @johnbugaj @lipstickandyellowroses @lorettashere @willywonka @barnett20todd @allbeckyb @bobbym625\n",
            "\n"
          ]
        }
      ]
    },
    {
      "cell_type": "markdown",
      "metadata": {
        "id": "fKoS2pMliUXN"
      },
      "source": [
        "## NLTK"
      ]
    },
    {
      "cell_type": "code",
      "metadata": {
        "id": "vxZ9Ai11iOiO"
      },
      "source": [
        "text = storybook\n",
        "n = 3\n",
        "\n",
        "n_grams = list(ngrams(text.split(), n))\n",
        "\n",
        "sentence = ''\n",
        "\n",
        "for i in range(5):\n",
        "    r = random.randint(0,50)\n",
        "    next_word = n_grams[r]\n",
        "    sentence = sentence + ' ' + str(next_word)\n",
        "\n",
        "print(sentence)"
      ],
      "execution_count": null,
      "outputs": []
    },
    {
      "cell_type": "code",
      "metadata": {
        "id": "1DAA-BzgihId"
      },
      "source": [
        ""
      ],
      "execution_count": null,
      "outputs": []
    }
  ]
}