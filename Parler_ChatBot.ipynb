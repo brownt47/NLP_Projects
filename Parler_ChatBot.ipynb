{
  "nbformat": 4,
  "nbformat_minor": 0,
  "metadata": {
    "colab": {
      "name": "Parler ChatBot - v1.ipynb",
      "provenance": [],
      "collapsed_sections": [],
      "authorship_tag": "ABX9TyNrKwjyLvnvAvxPY6sWhGFn",
      "include_colab_link": true
    },
    "kernelspec": {
      "name": "python3",
      "display_name": "Python 3"
    },
    "language_info": {
      "name": "python"
    }
  },
  "cells": [
    {
      "cell_type": "markdown",
      "metadata": {
        "id": "view-in-github",
        "colab_type": "text"
      },
      "source": [
        "<a href=\"https://colab.research.google.com/github/brownt47/NLP_Projects/blob/main/Parler_ChatBot.ipynb\" target=\"_parent\"><img src=\"https://colab.research.google.com/assets/colab-badge.svg\" alt=\"Open In Colab\"/></a>"
      ]
    },
    {
      "cell_type": "code",
      "metadata": {
        "id": "eP9wnJyVaIZn"
      },
      "source": [
        "#!pip install markovify\n"
      ],
      "execution_count": 192,
      "outputs": []
    },
    {
      "cell_type": "code",
      "metadata": {
        "id": "dyOxlaFVaQ6i"
      },
      "source": [
        "import markovify\n",
        "import pandas as pd\n",
        "import numpy as np\n",
        "from nltk import ngrams\n",
        "import random"
      ],
      "execution_count": 193,
      "outputs": []
    },
    {
      "cell_type": "markdown",
      "metadata": {
        "id": "NOhLuiOu2Io2"
      },
      "source": [
        "## Import the comments"
      ]
    },
    {
      "cell_type": "code",
      "metadata": {
        "id": "6EZzFKUkp-IJ"
      },
      "source": [
        "data = pd.read_csv('comments.csv')\n",
        "data.columns = ['comment']"
      ],
      "execution_count": 219,
      "outputs": []
    },
    {
      "cell_type": "code",
      "metadata": {
        "colab": {
          "base_uri": "https://localhost:8080/"
        },
        "id": "JmJeyOSawSwE",
        "outputId": "f7ec1e30-d856-4c0a-cf5a-d7aaa5c375f8"
      },
      "source": [
        "len(data)"
      ],
      "execution_count": 220,
      "outputs": [
        {
          "output_type": "execute_result",
          "data": {
            "text/plain": [
              "37268"
            ]
          },
          "metadata": {},
          "execution_count": 220
        }
      ]
    },
    {
      "cell_type": "code",
      "metadata": {
        "colab": {
          "base_uri": "https://localhost:8080/",
          "height": 409
        },
        "id": "HyVINqYTwVOe",
        "outputId": "c712d4e8-10c9-44d5-ab28-f25fe6996bf0"
      },
      "source": [
        "data"
      ],
      "execution_count": 221,
      "outputs": [
        {
          "output_type": "execute_result",
          "data": {
            "text/html": [
              "<div>\n",
              "<style scoped>\n",
              "    .dataframe tbody tr th:only-of-type {\n",
              "        vertical-align: middle;\n",
              "    }\n",
              "\n",
              "    .dataframe tbody tr th {\n",
              "        vertical-align: top;\n",
              "    }\n",
              "\n",
              "    .dataframe thead th {\n",
              "        text-align: right;\n",
              "    }\n",
              "</style>\n",
              "<table border=\"1\" class=\"dataframe\">\n",
              "  <thead>\n",
              "    <tr style=\"text-align: right;\">\n",
              "      <th></th>\n",
              "      <th>comment</th>\n",
              "    </tr>\n",
              "  </thead>\n",
              "  <tbody>\n",
              "    <tr>\n",
              "      <th>0</th>\n",
              "      <td>🇺🇸🇺🇸🇺🇸🇺🇸🇺🇸🇺🇸🇺🇸🇺🇸🇺🇸🇺🇸🇺🇸🇺🇸🇺🇸🇺🇸🇺🇸🇺🇸🇺🇸RESPECT!🇺🇸🇺🇸...</td>\n",
              "    </tr>\n",
              "    <tr>\n",
              "      <th>1</th>\n",
              "      <td>Echo!</td>\n",
              "    </tr>\n",
              "    <tr>\n",
              "      <th>2</th>\n",
              "      <td>🏴󠁧󠁢󠁥󠁮󠁧󠁿🇬🇧👍</td>\n",
              "    </tr>\n",
              "    <tr>\n",
              "      <th>3</th>\n",
              "      <td>ALL DO.. I WILL WATCH WHEN THEY GIVE HIM THE L...</td>\n",
              "    </tr>\n",
              "    <tr>\n",
              "      <th>4</th>\n",
              "      <td>“STOP ALL Testing” Says Top Pathologist &amp; COVI...</td>\n",
              "    </tr>\n",
              "    <tr>\n",
              "      <th>...</th>\n",
              "      <td>...</td>\n",
              "    </tr>\n",
              "    <tr>\n",
              "      <th>37263</th>\n",
              "      <td>I just joined Parler! Looking forward to meeti...</td>\n",
              "    </tr>\n",
              "    <tr>\n",
              "      <th>37264</th>\n",
              "      <td>Why the prospective $70 billion buyout of Walg...</td>\n",
              "    </tr>\n",
              "    <tr>\n",
              "      <th>37265</th>\n",
              "      <td>The tree of liberty needs to be refreshed ... ...</td>\n",
              "    </tr>\n",
              "    <tr>\n",
              "      <th>37266</th>\n",
              "      <td>MeToo Movement Refused to Help Woman Who Accus...</td>\n",
              "    </tr>\n",
              "    <tr>\n",
              "      <th>37267</th>\n",
              "      <td>THE SUPREME COURT WILL.</td>\n",
              "    </tr>\n",
              "  </tbody>\n",
              "</table>\n",
              "<p>37268 rows × 1 columns</p>\n",
              "</div>"
            ],
            "text/plain": [
              "                                                 comment\n",
              "0      🇺🇸🇺🇸🇺🇸🇺🇸🇺🇸🇺🇸🇺🇸🇺🇸🇺🇸🇺🇸🇺🇸🇺🇸🇺🇸🇺🇸🇺🇸🇺🇸🇺🇸RESPECT!🇺🇸🇺🇸...\n",
              "1                                                  Echo!\n",
              "2                                             🏴󠁧󠁢󠁥󠁮󠁧󠁿🇬🇧👍\n",
              "3      ALL DO.. I WILL WATCH WHEN THEY GIVE HIM THE L...\n",
              "4      “STOP ALL Testing” Says Top Pathologist & COVI...\n",
              "...                                                  ...\n",
              "37263  I just joined Parler! Looking forward to meeti...\n",
              "37264  Why the prospective $70 billion buyout of Walg...\n",
              "37265  The tree of liberty needs to be refreshed ... ...\n",
              "37266  MeToo Movement Refused to Help Woman Who Accus...\n",
              "37267                            THE SUPREME COURT WILL.\n",
              "\n",
              "[37268 rows x 1 columns]"
            ]
          },
          "metadata": {},
          "execution_count": 221
        }
      ]
    },
    {
      "cell_type": "markdown",
      "metadata": {
        "id": "1E1r6DxcqRuX"
      },
      "source": [
        "# Build the markovify models for various n-grams"
      ]
    },
    {
      "cell_type": "code",
      "metadata": {
        "id": "Bmz9s0_6JoIb"
      },
      "source": [
        "corpus = data.comment\n",
        "text_model1 = markovify.NewlineText(corpus, state_size=1, well_formed=False)\n",
        "text_model2 = markovify.NewlineText(corpus, state_size=2, well_formed=False)\n",
        "text_model3 = markovify.NewlineText(corpus, state_size=3, well_formed=False)\n",
        "text_model4 = markovify.NewlineText(corpus, state_size=4, well_formed=False)\n",
        "text_model5 = markovify.NewlineText(corpus, state_size=5, well_formed=False)\n"
      ],
      "execution_count": 222,
      "outputs": []
    },
    {
      "cell_type": "markdown",
      "metadata": {
        "id": "ej6Blu9s0-iu"
      },
      "source": [
        "### Helper function to generate *n*-number of comments"
      ]
    },
    {
      "cell_type": "code",
      "metadata": {
        "id": "N_tTHCTv0GFc"
      },
      "source": [
        "def posts(model, n):\n",
        "  for i in range(n):\n",
        "    line = None\n",
        "    while line == None: \n",
        "      line = model.make_sentence(tries=100, max_overlap_ratio = .7, max_overlap_total = 15)\n",
        "    print(str(line) + \"\\n\")"
      ],
      "execution_count": 318,
      "outputs": []
    },
    {
      "cell_type": "markdown",
      "metadata": {
        "id": "HSeRlKTpxEL9"
      },
      "source": [
        "### n-grams = 1"
      ]
    },
    {
      "cell_type": "code",
      "metadata": {
        "colab": {
          "base_uri": "https://localhost:8080/"
        },
        "id": "ozdGr6yqxD4L",
        "outputId": "74a3d4ce-fc15-4ea4-8004-81db96acb492"
      },
      "source": [
        "posts(text_model1, 5)"
      ],
      "execution_count": 312,
      "outputs": [
        {
          "output_type": "stream",
          "name": "stdout",
          "text": [
            "CNN's Brian Stelter Ignores The line victory was that’s up with people but I was instrumental in the voting to be a dream 713 individuals that calls the 2016-17 anthem to lift a Piper On Past time. Yes, I just reminded that the election, was to do to BLM is 100% alcohol.\n",
            "\n",
            "@stalinsghost They live in the Person’s of the last best for most part￼￼, and during an assortment of Agriculture and instantly recognized as is infallible. It’s the USA sacked so when a net neutrality campaign, AND COUNTING!\n",
            "\n",
            "So it so we make him I have it is racist on earth family business and our nation. I believe in case under the last election. #VoteTrump\n",
            "\n",
            "I went to make it did French police officers are right side.\n",
            "\n",
            "We want everything to meeting everyone here.\n",
            "\n"
          ]
        }
      ]
    },
    {
      "cell_type": "markdown",
      "metadata": {
        "id": "MBdp5UHVnX-O"
      },
      "source": [
        "### n-grams = 2"
      ]
    },
    {
      "cell_type": "code",
      "metadata": {
        "colab": {
          "base_uri": "https://localhost:8080/"
        },
        "id": "E1U7V2f5nW4L",
        "outputId": "2f884442-a3c5-4544-d9a8-57f77ae10041"
      },
      "source": [
        "posts(text_model2, 5)"
      ],
      "execution_count": 319,
      "outputs": [
        {
          "output_type": "stream",
          "name": "stdout",
          "text": [
            "Teach me to really put Joe Biden This November | The College Fix\n",
            "\n",
            "@Livingwithliberty Should be fun!\n",
            "\n",
            "@Jonnyfletcher12 I have loved and that is where I won't name names but then again, I live in your life, eh?\n",
            "\n",
            "Breakthrough – sometimes the consequences of the state's positive test results.\n",
            "\n",
            "@TheLizardElectric it was so prod up our hospitals get our state healthcare for free at\n",
            "\n"
          ]
        }
      ]
    },
    {
      "cell_type": "markdown",
      "metadata": {
        "id": "C0bUefQcndPG"
      },
      "source": [
        "### n-grams = 3"
      ]
    },
    {
      "cell_type": "code",
      "metadata": {
        "colab": {
          "base_uri": "https://localhost:8080/"
        },
        "id": "XoDHd3VfnWwi",
        "outputId": "08d63fef-bd2d-4d92-d54d-7a107c406197"
      },
      "source": [
        "posts(text_model3, 5)"
      ],
      "execution_count": 320,
      "outputs": [
        {
          "output_type": "stream",
          "name": "stdout",
          "text": [
            "@Gayle7753 Liberals aren’t leftists. Liberals have plenty to say about both sides and are very opinionated 😂\n",
            "\n",
            "Spent 2 years trying to take advantage of something that could not happen?\n",
            "\n",
            "Here Are 5 COVID-19 Charts Social Media and the Democrats have in store for us.\n",
            "\n",
            "@Simplysunshine Sweeeeeet! You have such a hard time not beating her ass\n",
            "\n",
            "This is coming to him next. It may be against the millions of us Patriots for Victory!!\n",
            "\n"
          ]
        }
      ]
    },
    {
      "cell_type": "markdown",
      "metadata": {
        "id": "b6B1UGPlnjLk"
      },
      "source": [
        "### n-grams = 4"
      ]
    },
    {
      "cell_type": "code",
      "metadata": {
        "colab": {
          "base_uri": "https://localhost:8080/"
        },
        "id": "t_pFF9Otfcx6",
        "outputId": "db63a473-b98e-429f-c4dc-09edd0a06e08"
      },
      "source": [
        "posts(text_model4, 5)"
      ],
      "execution_count": 321,
      "outputs": [
        {
          "output_type": "stream",
          "name": "stdout",
          "text": [
            "@Falcdawg1972 How is that funny or insulting? Have you ever had to stand in a long line to get into a position of greatness that she thinks she's in.\n",
            "\n",
            "Now, what to do about the rampant fraud in the general election, if you believe the deep state needs to be stopped, please echo this post.. 🦅\n",
            "\n",
            "Parler Owners.....Can you add a step that asks if you want to talk about the 12 delta smelt??\n",
            "\n",
            "The media doesn’t want you to see this'\n",
            "\n",
            "I feel the mask social distancing is a bunch of greasy Italian mobsters 😂🤣😂\n",
            "\n"
          ]
        }
      ]
    },
    {
      "cell_type": "markdown",
      "metadata": {
        "id": "w-TZcjf-nnmD"
      },
      "source": [
        "### n-grams = 5"
      ]
    },
    {
      "cell_type": "code",
      "metadata": {
        "colab": {
          "base_uri": "https://localhost:8080/"
        },
        "id": "oxnZFqGbnqJB",
        "outputId": "201e8e32-8bf4-43ef-f91c-cca79458d0e6"
      },
      "source": [
        "posts(text_model5, 5)"
      ],
      "execution_count": 322,
      "outputs": [
        {
          "output_type": "stream",
          "name": "stdout",
          "text": [
            "#Trigun has to be one of the most popular Christmas decorations...\n",
            "\n",
            "This should tell you everything you need to know about Chinese New Year 2021\n",
            "\n",
            "This is outrageous! Why do we have to listen to crap like this. What a disgrace.\n",
            "\n",
            "Well everyone, if Parler is going away then I just want to say Thank You to Laura Ingraham for Joining Parler!!\n",
            "\n",
            "Dominion servers seized in Germany!!! God Bless America and God Bless President Trump!! #trumptrain #4moreyears #thesilentmajority #therisen\n",
            "\n"
          ]
        }
      ]
    },
    {
      "cell_type": "markdown",
      "metadata": {
        "id": "3JiJZn3mjKw5"
      },
      "source": [
        "# Generate long rants\n",
        ">  Create Storybook - concatenates all comments into one confusing story.\n",
        "\n",
        ">  Observe for n = 4 and 5 the prevalence of hashtags and @usernames being generated"
      ]
    },
    {
      "cell_type": "code",
      "metadata": {
        "id": "LmWgbmF4jeQE"
      },
      "source": [
        "storybook = \"\""
      ],
      "execution_count": 289,
      "outputs": []
    },
    {
      "cell_type": "code",
      "metadata": {
        "id": "SqYgQkhrfqzy"
      },
      "source": [
        "for comment in filename.x:\n",
        "  storybook = storybook + str(comment) + \".  \"  \n",
        "  #correct, two spaces after the period.  Some habits refuse to die.\n",
        "  "
      ],
      "execution_count": 290,
      "outputs": []
    },
    {
      "cell_type": "code",
      "metadata": {
        "colab": {
          "base_uri": "https://localhost:8080/"
        },
        "id": "64GblyTFwO_u",
        "outputId": "d1e36ce9-9e30-4971-a697-32867b6d4f4c"
      },
      "source": [
        "len(storybook)"
      ],
      "execution_count": 291,
      "outputs": [
        {
          "output_type": "execute_result",
          "data": {
            "text/plain": [
              "4986881"
            ]
          },
          "metadata": {},
          "execution_count": 291
        }
      ]
    },
    {
      "cell_type": "markdown",
      "metadata": {
        "id": "AopauYZ24Rfb"
      },
      "source": [
        "### Create markovify models based on the storybook"
      ]
    },
    {
      "cell_type": "code",
      "metadata": {
        "id": "CxfQUNFoydFn"
      },
      "source": [
        "story_model1 = markovify.NewlineText(storybook, state_size=1, well_formed=False)\n",
        "story_model2 = markovify.NewlineText(storybook, state_size=2, well_formed=False)\n",
        "story_model3 = markovify.NewlineText(storybook, state_size=3, well_formed=False)\n",
        "story_model4 = markovify.NewlineText(storybook, state_size=4, well_formed=False)\n",
        "story_model5 = markovify.NewlineText(storybook, state_size=5, well_formed=False)"
      ],
      "execution_count": 292,
      "outputs": []
    },
    {
      "cell_type": "code",
      "metadata": {
        "id": "SWIG3MFv5fpN"
      },
      "source": [
        ""
      ],
      "execution_count": 292,
      "outputs": []
    },
    {
      "cell_type": "markdown",
      "metadata": {
        "id": "vOrH4PoS5gvo"
      },
      "source": [
        "#### Helper function to generate long comments or rants"
      ]
    },
    {
      "cell_type": "code",
      "metadata": {
        "id": "WIeFr_lM5gvp"
      },
      "source": [
        "def rant(model, n, length):\n",
        "  for i in range(n):\n",
        "    line = None\n",
        "    while line == None:\n",
        "      line = model.make_sentence(tries=1000,max_overlap_ratio = .8)\n",
        "      if (line != None and len(line)<length): line=None\n",
        "    print(str(line) + \"\\n\")"
      ],
      "execution_count": 293,
      "outputs": []
    },
    {
      "cell_type": "code",
      "metadata": {
        "colab": {
          "base_uri": "https://localhost:8080/"
        },
        "id": "g6gP4p6cyvC-",
        "outputId": "ea359ff3-d42b-48e9-bd93-cc5643cd1ece"
      },
      "source": [
        "rant(story_model1, 1, 300)"
      ],
      "execution_count": 294,
      "outputs": [
        {
          "output_type": "stream",
          "name": "stdout",
          "text": [
            "That Joe Biden. I may want to meeting everyone here.. 🇺🇸. I said yes. 😂😂😂😂. Mike Huckabee. Wife of us, our nation has zero fraud exists, but you the force.. @monokumaofficial Even though is defined by allowing children in the universe. I just joined Parler! Looking forward to speak! Screw their opinions in the Georgia Election Was just joined Parler! Looking forward to a great day.. @Donald45Trump Whaaaattt?????\n",
            "\n"
          ]
        }
      ]
    },
    {
      "cell_type": "code",
      "metadata": {
        "colab": {
          "base_uri": "https://localhost:8080/"
        },
        "id": "H5F88qvB4Z04",
        "outputId": "7a8ca8d7-c3eb-4486-a205-8eddd98ff42d"
      },
      "source": [
        "rant(story_model2, 1, 300)"
      ],
      "execution_count": 295,
      "outputs": [
        {
          "output_type": "stream",
          "name": "stdout",
          "text": [
            "Eu já vi títulos serem publicados em situações ainda mais deploráveis e o número de pessoas. Great to text me on my own research, albeit, I did watch some of my girlfriends son thinks its ok to go along with the teleprompter. How far is an enemy that routinely used women, children and the “Squad”, supports the democratic party, the true crime.\n",
            "\n"
          ]
        }
      ]
    },
    {
      "cell_type": "code",
      "metadata": {
        "colab": {
          "base_uri": "https://localhost:8080/"
        },
        "id": "Cz44bPAp4Zox",
        "outputId": "4c95078d-498a-46ef-840a-07ab99191dbf"
      },
      "source": [
        "rant(story_model3, 1, 300)"
      ],
      "execution_count": 296,
      "outputs": [
        {
          "output_type": "stream",
          "name": "stdout",
          "text": [
            "Fact of Scripture: Mark 16:16 \"He who believes and is justified, and with the Republican Garcia up by 405, it seems certain he will be an entertaining four years for sure!🤪🤪🤪🤪🤪🤪. @GregMean Wrong. You have made some good points. Perhaps the most we can do sure, and we are, but don’t think that we have already separated ourselves from each other over the last 4 years you would’ve expected this! President Trump has won this election in landslide period.. @Hamm3rtim3 Donald trump babe 😘😘. @benissimp Yes?\n",
            "\n"
          ]
        }
      ]
    },
    {
      "cell_type": "code",
      "metadata": {
        "colab": {
          "base_uri": "https://localhost:8080/"
        },
        "id": "L1CX5Hx04Zgu",
        "outputId": "e8aab17d-8c8e-41ea-db38-ede6e7fcac4f"
      },
      "source": [
        "rant(story_model4, 1, 200)"
      ],
      "execution_count": 297,
      "outputs": [
        {
          "output_type": "stream",
          "name": "stdout",
          "text": [
            "#PedoGate #Democrats #DemocratDoubleStandards #Pennsylvania #DemsAreToast #SaveTheChildren #Trump2020. .... This is a national disgrace.. Check this out. Headline: HEALTH EXPERTS SUPPORT ANTI-POLICE PROTESTS\n",
            "\n"
          ]
        }
      ]
    },
    {
      "cell_type": "code",
      "metadata": {
        "colab": {
          "base_uri": "https://localhost:8080/"
        },
        "id": "rOsSwcDR4ZXw",
        "outputId": "e8b77f4c-489b-4783-9a03-c2473de6573a"
      },
      "source": [
        "rant(story_model5, 1, 200)"
      ],
      "execution_count": 302,
      "outputs": [
        {
          "output_type": "stream",
          "name": "stdout",
          "text": [
            "@moon52 @deplorableearl @fatherofessen @hadati @janaurora @lakemonstercl @mickelodoole @ak1coleman @carolsievers88 @cmccbyfaith @tc69 @pinkk9lover @meetmichael @phoenixrising @dsware123 @johnbugaj @lipstickandyellowroses @lorettashere @willywonka @barnett20todd @bobbym625 @laurelmaga\n",
            "\n"
          ]
        }
      ]
    },
    {
      "cell_type": "markdown",
      "metadata": {
        "id": "fKoS2pMliUXN"
      },
      "source": [
        "## Other models to come\n",
        "> Using NLTK ngrams"
      ]
    },
    {
      "cell_type": "code",
      "metadata": {
        "colab": {
          "base_uri": "https://localhost:8080/"
        },
        "id": "vxZ9Ai11iOiO",
        "outputId": "57a69fe0-5e91-45bc-e695-2821bc3d3340"
      },
      "source": [
        "text = storybook\n",
        "n = 2\n",
        "\n",
        "n_grams = list(ngrams(text.split(), n))\n",
        "\n",
        "sentence = ''\n",
        "\n",
        "for i in range(5):\n",
        "    r = random.randint(0,50)\n",
        "    next_word = n_grams[r]\n",
        "    sentence = sentence + ' ' + str(next_word)\n",
        "\n",
        "print(sentence)"
      ],
      "execution_count": 304,
      "outputs": [
        {
          "output_type": "stream",
          "name": "stdout",
          "text": [
            " ('Pathologist', '&') ('Dr.', 'Roger') ('Dr.', 'Roger') ('HIM', 'THE') ('Top', 'Pathologist')\n"
          ]
        }
      ]
    },
    {
      "cell_type": "code",
      "metadata": {
        "id": "1DAA-BzgihId"
      },
      "source": [
        ""
      ],
      "execution_count": 299,
      "outputs": []
    }
  ]
}