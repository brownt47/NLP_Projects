{
  "nbformat": 4,
  "nbformat_minor": 0,
  "metadata": {
    "colab": {
      "name": "Parler_ChatBot_v2.ipynb",
      "provenance": [],
      "collapsed_sections": [],
      "include_colab_link": true
    },
    "kernelspec": {
      "name": "python3",
      "display_name": "Python 3"
    },
    "language_info": {
      "name": "python"
    }
  },
  "cells": [
    {
      "cell_type": "markdown",
      "metadata": {
        "id": "view-in-github",
        "colab_type": "text"
      },
      "source": [
        "<a href=\"https://colab.research.google.com/github/brownt47/NLP_Projects/blob/main/Parler_ChatBot.ipynb\" target=\"_parent\"><img src=\"https://colab.research.google.com/assets/colab-badge.svg\" alt=\"Open In Colab\"/></a>"
      ]
    },
    {
      "cell_type": "markdown",
      "metadata": {
        "id": "cl3cHOhoRKms"
      },
      "source": [
        "# **Parler Chat Bot**\n",
        "\n",
        "### This code will generate text based on the comments from the Parler Data Set leaked in January 2021\n",
        "\n",
        "#### *Version 2.0*\n",
        "###### *Change Log - removed storybook feature from v1. Corpus got too large to compile into one string. good problem.*"
      ]
    },
    {
      "cell_type": "code",
      "metadata": {
        "id": "eP9wnJyVaIZn"
      },
      "source": [
        "#!pip install markovify"
      ],
      "execution_count": null,
      "outputs": []
    },
    {
      "cell_type": "code",
      "metadata": {
        "id": "dyOxlaFVaQ6i"
      },
      "source": [
        "import markovify\n",
        "import pandas as pd\n",
        "import numpy as np\n",
        "from nltk import ngrams\n",
        "import random"
      ],
      "execution_count": null,
      "outputs": []
    },
    {
      "cell_type": "markdown",
      "metadata": {
        "id": "NOhLuiOu2Io2"
      },
      "source": [
        "## Import the comments"
      ]
    },
    {
      "cell_type": "code",
      "metadata": {
        "id": "6EZzFKUkp-IJ"
      },
      "source": [
        "data = pd.read_csv('full_comments_0000.csv',engine='python') #,encoding = 'latin-1',error_bad_lines=False)\n",
        "data.columns = ['comment']"
      ],
      "execution_count": null,
      "outputs": []
    },
    {
      "cell_type": "code",
      "metadata": {
        "colab": {
          "base_uri": "https://localhost:8080/"
        },
        "id": "JmJeyOSawSwE",
        "outputId": "330dc9ca-cc91-4a8b-d8f1-4861f2bbd2c4"
      },
      "source": [
        "len(data)"
      ],
      "execution_count": null,
      "outputs": [
        {
          "output_type": "execute_result",
          "data": {
            "text/plain": [
              "636417"
            ]
          },
          "metadata": {},
          "execution_count": 12
        }
      ]
    },
    {
      "cell_type": "code",
      "metadata": {
        "colab": {
          "base_uri": "https://localhost:8080/"
        },
        "id": "HyVINqYTwVOe",
        "outputId": "75273041-b9b6-43e5-9afd-0ab31bc7768e"
      },
      "source": [
        "print(data)"
      ],
      "execution_count": null,
      "outputs": [
        {
          "output_type": "stream",
          "name": "stdout",
          "text": [
            "                                                  comment\n",
            "0       🇺🇸🇺🇸🇺🇸🇺🇸🇺🇸🇺🇸🇺🇸🇺🇸🇺🇸🇺🇸🇺🇸🇺🇸🇺🇸🇺🇸🇺🇸🇺🇸🇺🇸RESPECT!🇺🇸🇺🇸...\n",
            "1                                                   Echo!\n",
            "2                                              🏴󠁧󠁢󠁥󠁮󠁧󠁿🇬🇧👍\n",
            "3       ALL DO.. I WILL WATCH WHEN THEY GIVE HIM THE L...\n",
            "4       “STOP ALL Testing” Says Top Pathologist & COVI...\n",
            "...                                                   ...\n",
            "636412  When can we just start knocking these people o...\n",
            "636413                who goes to a liberal doctor anyway\n",
            "636414  Amen to that. #standupfightback #patriotsfight...\n",
            "636415    HE'S A WALKING BAG OF 💩; IS THAT CLOSE ENOUGH!?\n",
            "636416  That's ok. You might have a follower who is. T...\n",
            "\n",
            "[636417 rows x 1 columns]\n"
          ]
        }
      ]
    },
    {
      "cell_type": "markdown",
      "metadata": {
        "id": "1E1r6DxcqRuX"
      },
      "source": [
        "# Build the markovify models for various n-grams"
      ]
    },
    {
      "cell_type": "code",
      "metadata": {
        "id": "Bmz9s0_6JoIb"
      },
      "source": [
        "corpus = data.comment\n",
        "formed_state = True\n",
        "#text_model1 = markovify.NewlineText(corpus, state_size=1, well_formed=formed_state)\n",
        "text_model2 = markovify.NewlineText(corpus, state_size=2, well_formed=formed_state)\n",
        "text_model3 = markovify.NewlineText(corpus, state_size=3, well_formed=formed_state)\n",
        "text_model4 = markovify.NewlineText(corpus, state_size=4, well_formed=formed_state)\n",
        "#text_model5 = markovify.NewlineText(corpus, state_size=5, well_formed=formed_state)\n"
      ],
      "execution_count": null,
      "outputs": []
    },
    {
      "cell_type": "markdown",
      "metadata": {
        "id": "ej6Blu9s0-iu"
      },
      "source": [
        "### Helper function to generate *n*-number of comments"
      ]
    },
    {
      "cell_type": "code",
      "metadata": {
        "id": "N_tTHCTv0GFc"
      },
      "source": [
        "def posts(model, n):\n",
        "  for i in range(n):\n",
        "    line = None\n",
        "    while line == None: \n",
        "      line = model.make_sentence(tries=100, max_overlap_ratio = .9, max_overlap_total = 15)\n",
        "    print(str(line) + \"\\n\")"
      ],
      "execution_count": null,
      "outputs": []
    },
    {
      "cell_type": "markdown",
      "metadata": {
        "id": "HSeRlKTpxEL9"
      },
      "source": [
        "### n-grams = 1"
      ]
    },
    {
      "cell_type": "code",
      "metadata": {
        "id": "ozdGr6yqxD4L"
      },
      "source": [
        "#posts(text_model1, 5)"
      ],
      "execution_count": null,
      "outputs": []
    },
    {
      "cell_type": "markdown",
      "metadata": {
        "id": "MBdp5UHVnX-O"
      },
      "source": [
        "### n-grams = 2"
      ]
    },
    {
      "cell_type": "code",
      "metadata": {
        "colab": {
          "base_uri": "https://localhost:8080/"
        },
        "id": "E1U7V2f5nW4L",
        "outputId": "476b5812-9c65-4023-84f2-271e29ee1c28"
      },
      "source": [
        "posts(text_model2, 15)"
      ],
      "execution_count": null,
      "outputs": [
        {
          "output_type": "stream",
          "name": "stdout",
          "text": [
            "And another one,,,,,,how many does this mean.\n",
            "\n",
            "@Agucac They will engage in the History of the constant bias we face. Let's Go!\n",
            "\n",
            "That’s only coolest job I can openly share my work with special people like you.\n",
            "\n",
            "Maybe these folks are ALL sill here, by the Left. I support real heroes trust our President Trump is President 🙏💜✝️\n",
            "\n",
            "The site does better on here\n",
            "\n",
            "Obama is gay and lesbian workers\n",
            "\n",
            "Are you sure have a backup to YouTube to Parler Brad!\n",
            "\n",
            "There they are, what they want, the Chinese that has to settle this\n",
            "\n",
            "@dickwood Hmmm...I don’t know how you see the accountability process.\n",
            "\n",
            "Explore the Fox News sucks\n",
            "\n",
            "If you smell that?\n",
            "\n",
            "@Babbalooey Brilliant ‼️ you have any questions just ask.\n",
            "\n",
            "Toss them out . For it is BS\n",
            "\n",
            "@Mcostaleuda Louca! Que foi que eu também votei no Bolsonaro de nada só estou fazendo um comentário muito bem Sra Regina falou tudo\n",
            "\n",
            "Welcome. Great to have you join our growing community! Share with your friends!\n",
            "\n"
          ]
        }
      ]
    },
    {
      "cell_type": "markdown",
      "metadata": {
        "id": "C0bUefQcndPG"
      },
      "source": [
        "### n-grams = 3"
      ]
    },
    {
      "cell_type": "code",
      "metadata": {
        "colab": {
          "base_uri": "https://localhost:8080/"
        },
        "id": "XoDHd3VfnWwi",
        "outputId": "d354467b-713f-4a03-f94c-efce1661209f"
      },
      "source": [
        "posts(text_model3, 15)"
      ],
      "execution_count": null,
      "outputs": [
        {
          "output_type": "stream",
          "name": "stdout",
          "text": [
            "I take in MSM and it’s a matter of priorities.\n",
            "\n",
            "Why not stress on the fact that China interfered with our election\n",
            "\n",
            "He won’t answer questions, he doesn’t think one state should interfere with another. True! If there’s little to no help , Citizens will have to choose who they stand with. If each state separates they will be spineless rinos again.\n",
            "\n",
            "@Oneijose Only crazy liberals would understand anything this old coot says.\n",
            "\n",
            "If you haven’t already, please show up and stay. And for me...anyone, I mean anyone that supports Joe Biden are definitely not an American citizen\n",
            "\n",
            "@Bookemjohn Yeah, that kinda of Vader at the end of that jackass\n",
            "\n",
            "The Uncle Tom, Boot licker, Trader comments from the left will just turn on their own border?\n",
            "\n",
            "Actually he was the only way to save the nation.\n",
            "\n",
            "Another one of my flights. Hopefully it will get the sympathy vote.\n",
            "\n",
            "She’s part of the deep state have body doubles.\n",
            "\n",
            "@AngloAmerican You are so full of himself. British scum elite. His days are running out.\n",
            "\n",
            "All transparent as they are told\n",
            "\n",
            "These clowns are PAID BY US, they're supposed to represent.\n",
            "\n",
            "This is just more of the real world. These people are just out to indoctrinate the masses. As a retired teacher & I have problem with that. More later, but keep thinking with your brain, not with your tv please.\n",
            "\n",
            "@Drevasbeauty Oh mean, Hillary, Bill, Michael Obama, Barack Obama and the handicap Biden down\n",
            "\n"
          ]
        }
      ]
    },
    {
      "cell_type": "markdown",
      "metadata": {
        "id": "b6B1UGPlnjLk"
      },
      "source": [
        "### n-grams = 4"
      ]
    },
    {
      "cell_type": "code",
      "metadata": {
        "colab": {
          "base_uri": "https://localhost:8080/"
        },
        "id": "t_pFF9Otfcx6",
        "outputId": "2e385cfe-588c-4c09-e5f3-4f208876ba18"
      },
      "source": [
        "posts(text_model4, 15)"
      ],
      "execution_count": null,
      "outputs": [
        {
          "output_type": "stream",
          "name": "stdout",
          "text": [
            "Thank you for your service and Happy Veterans Day. I agree with you there. The domestic terrorism is the immediate danger.\n",
            "\n",
            "LILLEY: Tens of thousands of Biden only ballots delivered in a weird way\n",
            "\n",
            "@RobertKlimek You’re right. It’s just sad and scary how low they will go! Bottom feeders!\n",
            "\n",
            "This is so heartbreaking and infuriating. MSM sucks and they know it. Three days of death.\n",
            "\n",
            "He knows he is not a politician. A successful businessman striving to make it right for the next time.\n",
            "\n",
            "Seriously. This is what we’re dealing with people.\n",
            "\n",
            "I’m going to put this guy then they should put another judge to counter balance.\n",
            "\n",
            "Yah what’s up you can’t Plot shit like that , What are we doing here today?\n",
            "\n",
            "Your senior Senator has shown his true color. How much do you consume per month?\n",
            "\n",
            "I actually hate her, never hated so many people in our government offices.\n",
            "\n",
            "Thank You for doing what my Senators would not do, Stand for the people of Beirut and our Teen Challenge Lebanon family.\n",
            "\n",
            "Either Slow Joe is a no-show or more likely, something will happen to him nothing ever happens to shut the Democrats up.\n",
            "\n",
            "Constantly praying for both teams. Sidney Powell, Jenna Ellis and Rudy Giuliani are on our side. We got this!\n",
            "\n",
            "The Arctic isn’t warming, and Praying Mantis has been doing it since we first walked upright.\n",
            "\n",
            "I don’t trust Sen. Lee and I definitely don’t like being told what to do\n",
            "\n"
          ]
        }
      ]
    },
    {
      "cell_type": "markdown",
      "metadata": {
        "id": "3JiJZn3mjKw5"
      },
      "source": [
        "\n",
        "\n",
        "\n",
        "# Generate long rants\n",
        "\n",
        ">  Observe for n = 4 and 5 the prevalence of hashtags and @usernames generated\n"
      ]
    },
    {
      "cell_type": "markdown",
      "metadata": {
        "id": "vOrH4PoS5gvo"
      },
      "source": [
        "#### Helper function to generate n-number of rants"
      ]
    },
    {
      "cell_type": "code",
      "metadata": {
        "id": "WIeFr_lM5gvp"
      },
      "source": [
        "def rant(model, n, length):\n",
        "  for i in range(n):\n",
        "    line = None\n",
        "    while line == None:\n",
        "      line = model.make_sentence(tries=1000,max_overlap_ratio = .8)\n",
        "      if (line != None and len(line)<length): line=None\n",
        "    print(str(line) + \"\\n\")"
      ],
      "execution_count": null,
      "outputs": []
    },
    {
      "cell_type": "markdown",
      "metadata": {
        "id": "w-TZcjf-nnmD"
      },
      "source": [
        "### Rants"
      ]
    },
    {
      "cell_type": "code",
      "metadata": {
        "colab": {
          "base_uri": "https://localhost:8080/"
        },
        "id": "oxnZFqGbnqJB",
        "outputId": "888510ae-d28e-4ad7-8cd7-75010c1db6e7"
      },
      "source": [
        "rant(text_model3, 15, 100)"
      ],
      "execution_count": null,
      "outputs": [
        {
          "output_type": "stream",
          "name": "stdout",
          "text": [
            "A recession, in no way, will spill over onto AOC and the Squad Raise Bail Money for Antifa Arrested at Straight Pride Parade\n",
            "\n",
            "Look at what and who they hire so the DNC gets financial and propaganda support from these big pharma..\n",
            "\n",
            "Have you seen Swalwell? I’d rather not, thank you - I refuse to believe it either. Eventually, you come to someone else’s life, their labor, their property. Theft is immoral.\n",
            "\n",
            "If you have interest in grow your Parler account. Send a dm to @massupvote or click their website URL in BIO for more information.\n",
            "\n",
            "Contact the Supreme Court declares Trup the winner of the election. We both know better than I deserve. What I wanted to disappear up my own here in Vegas as well.\n",
            "\n",
            "We need to impeach this reckless judge. Lady justice is going drop the scales and put up with bullies but to defend ourselves from him and them and took all the pictures of my family it was chicken.\n",
            "\n",
            "@OGhonky Never tried Eggnog. Or is this alternative science? Photosynthesis doesn't work as you say. Did you get hit with a hammer?\n",
            "\n",
            "@Pamlam33952 Yeah yeah. It’s a cute move. Like I said weeks ago that antifa was gonna turn up on him?\n",
            "\n",
            "If this was in Portland so the Illegal immigrants could hide and not get banned! PARLOR FOR LIFE LOL!!!!!\n",
            "\n",
            "I thought The 9th Circus had been flipped to point a fake rifle at someone dressed as president Donald Trump for President mobile app to get involved with their associates ... on a daily basis and if there is, but use duck duck go search\n",
            "\n",
            "Biden’s stealing the election violates people’s constitutional right to know what they call people who spread fear?\n",
            "\n",
            "Ahhh, but Trump is totally on Trumps side and has been in the system to a final protection or we take action.\n",
            "\n",
            "I hope you’re willing to take the movement from Black Lives Matter Democrats wanted them out of their way to a proper filing AND IT HAS BEEN AROUND AND WORKING JUST FIND THANK YOU VERY MUCH President Trump for making this possible for those to hear the Covid coming on in.\n",
            "\n",
            "@MommyFrosty When you push too hard you will not destroy our nation. Literally arson, riots, looting - tearing down history...\n",
            "\n",
            "I use DUCKDUCKGO.com. I haven't used them since November in Vegas and now I'm in the same way they’d reject the porn industry or tobacco industry.\n",
            "\n"
          ]
        }
      ]
    },
    {
      "cell_type": "code",
      "metadata": {
        "colab": {
          "base_uri": "https://localhost:8080/"
        },
        "id": "EyABFRW3YnZp",
        "outputId": "efa9edc6-1a61-4bd7-8b90-2deebee3a1ae"
      },
      "source": [
        "rant(text_model4, 15, 200)"
      ],
      "execution_count": 24,
      "outputs": [
        {
          "output_type": "stream",
          "name": "stdout",
          "text": [
            "#ForaCorruptos #CorruptosNaCadeia #CorruptosNaCadeia #CorruptosNaCadeia #CorruptosNaCadeia #CorruptosNaCadeia #CorruptosNaCadeia #CorruptosNaCadeia #CorruptosNaCadeia #CorruptosNaCadeia #CorruptosNaCadeia #NaoVoteEmCorruptos #NaoVoteEmCorruptos #Nãovotememcorruptos #NãoVotemEmComunistas #NãoVotemEmComunistas #NaoVoteEmCorruptos #NãoVotemEmComunista #NãoVotemEmComunista #NãoVotemEmComunista\n",
            "\n",
            "Screw CNN, it's great to see them getting caught, now we will see if we live in a multicultural society. If you don’t like my opinion kiss my ass! He doesn’t have to say anything. It’s just their equivalent to spitting. 🤬\n",
            "\n",
            "@HawkFeather You know. I read your bio and it looks like few Trump votes are dribbling in. Why are all the Q people following nutsling? Something is going on here. If you already have underlying health issues then by all means CARRY ON!\n",
            "\n",
            "Blacks aren’t even being manipulated anymore. I’m glad people are starting to stand up and fight against the powerful, hidden forces that rule and manipulate us and our country. Your sacrifices have not gone unnoticed. Praying for you!\n",
            "\n",
            "Why did dinosaurs roamed in Artic and Antarctica several hundred million years ago, and it has zero impact on findings. Bruce Ohr has been reassigned is not part of the court process. Why is this not surprising!?!?\n",
            "\n",
            "#ParlerApp needs serious help. Submitting posts that never show up is almost as bad as the corrupt administration in place. This is an anti war president but at the same time POS BIDEN is being sworn in!! #notmypresident\n",
            "\n",
            "Not sure I logged out so I could follow more people and I couldn’t get anything through, couldn’t put a link to my testimony before the Senate Judiciary Committee in March 2015. He is a champion 👏👏👏👏🇺🇸🇺🇸\n",
            "\n",
            "In the name of God be healed and call on the name of the beast, or the number of the beast: for it is the number of a man. And that number is in the lower right hand corner if you feel the need to make up one of you fuckers when I can just block them and they’ll never exist to me again.\n",
            "\n",
            "We need to get rid of these communist platforms in the USA, if we live in a massive bouncy house and natural selection has been removed from Facebook because she had the Facebook site entitled Recall Gavin Newsome.\n",
            "\n",
            "You know they are just trying to live there life, but they will not win not now not ever but we must fight and fight to win...failure to do so will destroy democracy and most likely lead to another civil war.\n",
            "\n",
            "But, illegal search and seizure is a problem when it comes to the civil rights movement crackers too? I grew up in New York so that their lefty demons will move to Florida to be represented by you and have Mr D as my governor!\n",
            "\n",
            "@Kristenz98 It could have been! I may not be able to vote!!! Ok I’ll do it Saturday.... then if I get kicked off here ..... I'm going to say this until we get rid of this idiot. Who the f elected this spineless brainless a-hole\n",
            "\n",
            "If you are blind deaf and living in a peaceful community. The pro athletes have crossed the line to cheating so hugely at this level, it will not stop anytime soon. We have 4 years to roundup the snowflake posse.\n",
            "\n",
            "I for one am not looking back... President Trump is the greatest. He fights for all of us to have because for too long we have been naive if we don’t realize there is not a president he is a thief and a liar 😒\n",
            "\n",
            "the same day Vice President Joe Biden received 80,555 more votes than President Trump, and will be occupying the White House, the American People are suppose to just let it go.... Hell No! It’s a federal offense...Do something!\n",
            "\n"
          ]
        }
      ]
    },
    {
      "cell_type": "markdown",
      "metadata": {
        "id": "qx-ogXyUVd8m"
      },
      "source": [
        ""
      ]
    },
    {
      "cell_type": "code",
      "metadata": {
        "id": "6lgSjZ99eqKo"
      },
      "source": [
        ""
      ],
      "execution_count": null,
      "outputs": []
    },
    {
      "cell_type": "markdown",
      "metadata": {
        "id": "VxzhCOleerjZ"
      },
      "source": [
        "## Paragraph Formation\n",
        "\n",
        "### string together sentences by randomly selecting from the n-gram models : [2,3,4]\n",
        "\n",
        "#### Note: develop coherence from one sentence to next.  \n",
        "                - Sentiment analysis?\n",
        "                - random select words for seeds from preceding?\n",
        "                - random topic list loosely related as seeds\n",
        "                \n",
        "\n"
      ]
    },
    {
      "cell_type": "code",
      "metadata": {
        "colab": {
          "base_uri": "https://localhost:8080/"
        },
        "id": "OM_Vyja8fR-x",
        "outputId": "7fe69c03-ebc9-4a87-d069-3de5d0810ce8"
      },
      "source": [
        "paragraph = \"\"\n",
        "line=\"\"\n",
        "\n",
        "n_sentences = random.randint(3,5)\n",
        "\n",
        "for i in range(n_sentences):\n",
        "  n_gram_generator = random.randint(2,4)\n",
        "  if n_gram_generator == 2: model = text_model2\n",
        "  if n_gram_generator == 3: model = text_model3\n",
        "  if n_gram_generator == 4: model = text_model4\n",
        "  line = line + \".  \" + model.make_sentence(tries=100) + \"\\n\"\n",
        "print(line)"
      ],
      "execution_count": null,
      "outputs": [
        {
          "output_type": "stream",
          "name": "stdout",
          "text": [
            ".  Please get this done. But we need to emulate.\n",
            ".  It would’ve have been easier to do that then to please? He seems to lose more brain cells and you have made Fox probably billions when are you coming back on? I feel like I've just joined an undercover agency\n",
            ".  Good. Fuck the NFL defunded\n",
            "\n"
          ]
        }
      ]
    }
  ]
}