{
  "nbformat": 4,
  "nbformat_minor": 0,
  "metadata": {
    "colab": {
      "name": "Parler_ChatBot_v2.ipynb",
      "provenance": [],
      "collapsed_sections": [],
      "include_colab_link": true
    },
    "kernelspec": {
      "name": "python3",
      "display_name": "Python 3"
    },
    "language_info": {
      "name": "python"
    }
  },
  "cells": [
    {
      "cell_type": "markdown",
      "metadata": {
        "id": "view-in-github",
        "colab_type": "text"
      },
      "source": [
        "<a href=\"https://colab.research.google.com/github/brownt47/NLP_Projects/blob/main/Parler_ChatBot.ipynb\" target=\"_parent\"><img src=\"https://colab.research.google.com/assets/colab-badge.svg\" alt=\"Open In Colab\"/></a>"
      ]
    },
    {
      "cell_type": "markdown",
      "metadata": {
        "id": "cl3cHOhoRKms"
      },
      "source": [
        "# **Parler Chat Bot**\n",
        "\n",
        "### This code will generate text based on the comments from the Parler Data Set leaked in January 2021\n",
        "\n",
        "#### *Version 2.0*\n",
        "###### *Change Log - removed storybook feature from v1. Corpus got too large to compile into one string. good problem.*"
      ]
    },
    {
      "cell_type": "code",
      "metadata": {
        "id": "eP9wnJyVaIZn"
      },
      "source": [
        "#!pip install markovify"
      ],
      "execution_count": 25,
      "outputs": []
    },
    {
      "cell_type": "code",
      "metadata": {
        "id": "dyOxlaFVaQ6i"
      },
      "source": [
        "import markovify\n",
        "import pandas as pd\n",
        "import numpy as np\n",
        "from nltk import ngrams\n",
        "import random"
      ],
      "execution_count": 26,
      "outputs": []
    },
    {
      "cell_type": "markdown",
      "metadata": {
        "id": "NOhLuiOu2Io2"
      },
      "source": [
        "## Import the comments"
      ]
    },
    {
      "cell_type": "code",
      "metadata": {
        "id": "6EZzFKUkp-IJ"
      },
      "source": [
        "data = pd.read_csv('full_comments.csv',engine='python') #,encoding = 'latin-1',error_bad_lines=False)\n",
        "data.columns = ['comment']"
      ],
      "execution_count": 27,
      "outputs": []
    },
    {
      "cell_type": "code",
      "metadata": {
        "colab": {
          "base_uri": "https://localhost:8080/"
        },
        "id": "JmJeyOSawSwE",
        "outputId": "7650f663-790f-426b-e086-f04b9dd2bd48"
      },
      "source": [
        "len(data)"
      ],
      "execution_count": 28,
      "outputs": [
        {
          "output_type": "execute_result",
          "data": {
            "text/plain": [
              "183853"
            ]
          },
          "metadata": {},
          "execution_count": 28
        }
      ]
    },
    {
      "cell_type": "code",
      "metadata": {
        "colab": {
          "base_uri": "https://localhost:8080/"
        },
        "id": "HyVINqYTwVOe",
        "outputId": "3bafc928-7540-4ef8-dbac-d42b0b72181c"
      },
      "source": [
        "print(data)"
      ],
      "execution_count": 52,
      "outputs": [
        {
          "output_type": "stream",
          "name": "stdout",
          "text": [
            "                                                  comment\n",
            "0       🇺🇸🇺🇸🇺🇸🇺🇸🇺🇸🇺🇸🇺🇸🇺🇸🇺🇸🇺🇸🇺🇸🇺🇸🇺🇸🇺🇸🇺🇸🇺🇸🇺🇸RESPECT!🇺🇸🇺🇸...\n",
            "1                                                   Echo!\n",
            "2                                              🏴󠁧󠁢󠁥󠁮󠁧󠁿🇬🇧👍\n",
            "3       ALL DO.. I WILL WATCH WHEN THEY GIVE HIM THE L...\n",
            "4       “STOP ALL Testing” Says Top Pathologist & COVI...\n",
            "...                                                   ...\n",
            "183848                                       Up your arse\n",
            "183849                                           Exactly!\n",
            "183850                                         Me either!\n",
            "183851                                It's a meme, a joke\n",
            "183852                     🤣🤣🤣🤣🤣. That’s Kamala for sure!\n",
            "\n",
            "[183853 rows x 1 columns]\n"
          ]
        }
      ]
    },
    {
      "cell_type": "markdown",
      "metadata": {
        "id": "1E1r6DxcqRuX"
      },
      "source": [
        "# Build the markovify models for various n-grams"
      ]
    },
    {
      "cell_type": "code",
      "metadata": {
        "id": "Bmz9s0_6JoIb"
      },
      "source": [
        "corpus = data.comment\n",
        "formed_state = True\n",
        "text_model1 = markovify.NewlineText(corpus, state_size=1, well_formed=formed_state)\n",
        "text_model2 = markovify.NewlineText(corpus, state_size=2, well_formed=formed_state)\n",
        "text_model3 = markovify.NewlineText(corpus, state_size=3, well_formed=formed_state)\n",
        "text_model4 = markovify.NewlineText(corpus, state_size=4, well_formed=formed_state)\n",
        "text_model5 = markovify.NewlineText(corpus, state_size=5, well_formed=formed_state)\n"
      ],
      "execution_count": 88,
      "outputs": []
    },
    {
      "cell_type": "markdown",
      "metadata": {
        "id": "ej6Blu9s0-iu"
      },
      "source": [
        "### Helper function to generate *n*-number of comments"
      ]
    },
    {
      "cell_type": "code",
      "metadata": {
        "id": "N_tTHCTv0GFc"
      },
      "source": [
        "def posts(model, n):\n",
        "  for i in range(n):\n",
        "    line = None\n",
        "    while line == None: \n",
        "      line = model.make_sentence(tries=100, max_overlap_ratio = .7, max_overlap_total = 15)\n",
        "    print(str(line) + \"\\n\")"
      ],
      "execution_count": 89,
      "outputs": []
    },
    {
      "cell_type": "markdown",
      "metadata": {
        "id": "HSeRlKTpxEL9"
      },
      "source": [
        "### n-grams = 1"
      ]
    },
    {
      "cell_type": "code",
      "metadata": {
        "colab": {
          "base_uri": "https://localhost:8080/"
        },
        "id": "ozdGr6yqxD4L",
        "outputId": "de3b7e1b-c8f8-4fe3-db70-f883f7bd9361"
      },
      "source": [
        "posts(text_model1, 5)"
      ],
      "execution_count": 90,
      "outputs": [
        {
          "output_type": "stream",
          "name": "stdout",
          "text": [
            "Fuck off my story!! I'm up for Most Muslim Brotherhood, and people per video.\n",
            "\n",
            "Put him yet the NYT WSJ | TheHill\n",
            "\n",
            "My very voice of all be murdered. Biden/Harris kowtowing to Europe. When a nice tits! Gag makes me more words that too. Not for your post and with Michael?\n",
            "\n",
            "I look up on her criminal activities. How Disputed by shooting leaves multiple cars had fight!\n",
            "\n",
            "We cannot stand. We will notice!\n",
            "\n"
          ]
        }
      ]
    },
    {
      "cell_type": "markdown",
      "metadata": {
        "id": "MBdp5UHVnX-O"
      },
      "source": [
        "### n-grams = 2"
      ]
    },
    {
      "cell_type": "code",
      "metadata": {
        "colab": {
          "base_uri": "https://localhost:8080/"
        },
        "id": "E1U7V2f5nW4L",
        "outputId": "813558d4-7179-45ae-d5ce-0b14db776fbb"
      },
      "source": [
        "posts(text_model2, 5)"
      ],
      "execution_count": 91,
      "outputs": [
        {
          "output_type": "stream",
          "name": "stdout",
          "text": [
            "Is sounds so funny once it goes both ways! They are all the Patriots. Street justice is delivered.\n",
            "\n",
            "@RakkMk2 Am I the only leader strong enough to buy but braindead idiots don't they? I don't know how good we cannot spend what is at it carefully, was it for you at\n",
            "\n",
            "My thoughts and prayers go to prison including one Republican pushing back a lot about democracy and not your 4ft bitch you are.\n",
            "\n",
            "Imagine yo girl too.\n",
            "\n",
            "All the veterans who serve in our government\n",
            "\n"
          ]
        }
      ]
    },
    {
      "cell_type": "markdown",
      "metadata": {
        "id": "C0bUefQcndPG"
      },
      "source": [
        "### n-grams = 3"
      ]
    },
    {
      "cell_type": "code",
      "metadata": {
        "colab": {
          "base_uri": "https://localhost:8080/"
        },
        "id": "XoDHd3VfnWwi",
        "outputId": "163c2802-4b69-424d-9c3d-35da4ec0385a"
      },
      "source": [
        "posts(text_model3, 5)"
      ],
      "execution_count": 92,
      "outputs": [
        {
          "output_type": "stream",
          "name": "stdout",
          "text": [
            "It’s not really hard to make out. Regardless of who they are.\n",
            "\n",
            "You can app this to all my new friends from Parler 👍🏻❤️.\n",
            "\n",
            "They've lost their screws at @CNN1 a long time for many crooked people!👀🐇🇺🇸\n",
            "\n",
            "I’m with you, but if they have been regulated out, too.\n",
            "\n",
            "Pregnant with her fourth child, the woman, who had been preselected to be lost, to repent? Why? Because there is no peace in the Middle is the Value of 1 Ounce of Silver compared to the relatively small change YOY. It did not stop this woman & didn’t condemn the idea of Joe Biden being president. I think Joe Biden would put a meeting he is not a confirmation of God's truth.\n",
            "\n"
          ]
        }
      ]
    },
    {
      "cell_type": "markdown",
      "metadata": {
        "id": "b6B1UGPlnjLk"
      },
      "source": [
        "### n-grams = 4"
      ]
    },
    {
      "cell_type": "code",
      "metadata": {
        "colab": {
          "base_uri": "https://localhost:8080/"
        },
        "id": "t_pFF9Otfcx6",
        "outputId": "b3c5e48a-7b6b-40a4-b0f9-e2ab868944be"
      },
      "source": [
        "posts(text_model4, 5)"
      ],
      "execution_count": 93,
      "outputs": [
        {
          "output_type": "stream",
          "name": "stdout",
          "text": [
            "Burning and defiling religious monuments and churches is not just an act of terrorism against God. These acts will be punished by God\n",
            "\n",
            "What would you share with a group of people who want to end mass incarceration.\n",
            "\n",
            "I would vote for him! If we are going to Walmart or Target during Christmas time. Ok!! 👏🏻👏🏻👍🏻👍🏻🇺🇸🇺🇸🇺🇸\n",
            "\n",
            "Until we do this for every election, forever.\n",
            "\n",
            "We need a team of people who have the sole purpose of discrediting the #lgbt community and stirring up more hatred and division\n",
            "\n"
          ]
        }
      ]
    },
    {
      "cell_type": "markdown",
      "metadata": {
        "id": "3JiJZn3mjKw5"
      },
      "source": [
        "\n",
        "\n",
        "\n",
        "# Generate long rants\n",
        "\n",
        ">  Observe for n = 4 and 5 the prevalence of hashtags and @usernames generated\n"
      ]
    },
    {
      "cell_type": "markdown",
      "metadata": {
        "id": "vOrH4PoS5gvo"
      },
      "source": [
        "#### Helper function to generate n-number of rants"
      ]
    },
    {
      "cell_type": "code",
      "metadata": {
        "id": "WIeFr_lM5gvp"
      },
      "source": [
        "def rant(model, n, length):\n",
        "  for i in range(n):\n",
        "    line = None\n",
        "    while line == None:\n",
        "      line = model.make_sentence(tries=1000,max_overlap_ratio = .8)\n",
        "      if (line != None and len(line)<length): line=None\n",
        "    print(str(line) + \"\\n\")"
      ],
      "execution_count": 94,
      "outputs": []
    },
    {
      "cell_type": "markdown",
      "metadata": {
        "id": "w-TZcjf-nnmD"
      },
      "source": [
        "### Rants"
      ]
    },
    {
      "cell_type": "code",
      "metadata": {
        "colab": {
          "base_uri": "https://localhost:8080/"
        },
        "id": "oxnZFqGbnqJB",
        "outputId": "2483aafb-5236-44ba-bf05-01209848e266"
      },
      "source": [
        "rant(text_model3, 1, 300)"
      ],
      "execution_count": 95,
      "outputs": [
        {
          "output_type": "stream",
          "name": "stdout",
          "text": [
            "Then you will experience God’s peace, which exceeds anything we can assist you with? We are here to stay. But so is unexpected beauty, loyalty and laughter. The good and bad people of every race. It is also peace loving, gentle at all times, and willing to protect yourself from COVID 19. Do not gather in groups of more than 150 separate times in his life that's for sure.\n",
            "\n"
          ]
        }
      ]
    },
    {
      "cell_type": "code",
      "metadata": {
        "colab": {
          "base_uri": "https://localhost:8080/"
        },
        "id": "EyABFRW3YnZp",
        "outputId": "bf14b4d0-935e-4ff8-e981-48e4bee1fdac"
      },
      "source": [
        "rant(text_model4, 1, 300)"
      ],
      "execution_count": 96,
      "outputs": [
        {
          "output_type": "stream",
          "name": "stdout",
          "text": [
            "#parler #wwg1wga #maga #kag #newuser #news #trump2020 #trump #america #qanon #qarmy #patriots #keepamericagreat #Canada #thegreatawakening #stopcensorship #freedom #freespeech #teamtrump #republican #antilgtb #bluelivesmatter #christian #BIDEN #PEDOGATE #BLM #GODWINS #TRUMP2020 #TRUMP #CHRISTIANITY #republican #teamtrump #PARLERUSA\n",
            "\n"
          ]
        }
      ]
    },
    {
      "cell_type": "code",
      "metadata": {
        "id": "6lgSjZ99eqKo"
      },
      "source": [
        ""
      ],
      "execution_count": 96,
      "outputs": []
    },
    {
      "cell_type": "markdown",
      "metadata": {
        "id": "VxzhCOleerjZ"
      },
      "source": [
        "## Paragraph Formation\n",
        "\n",
        "### string together sentences by randomly selecting from the n-gram models : [2,3,4]\n",
        "\n",
        "#### Note: develop coherence from one sentence to next.  \n",
        "                - Sentiment analysis?\n",
        "                - random select words for seeds from preceding?\n",
        "                - random topic list loosely related as seeds\n",
        "\n"
      ]
    },
    {
      "cell_type": "code",
      "metadata": {
        "colab": {
          "base_uri": "https://localhost:8080/"
        },
        "id": "OM_Vyja8fR-x",
        "outputId": "1aa835c3-ad79-497b-ba11-c846753a58c8"
      },
      "source": [
        "paragraph = \"\"\n",
        "\n",
        "n_sentences = random.randint(3,7)\n",
        "\n",
        "for i in range(n_sentences):\n",
        "  n_gram_generator = random.randint(2,4)\n",
        "  if n_gram_generator == 2: model = text_model2\n",
        "  if n_gram_generator == 3: model = text_model3\n",
        "  if n_gram_generator == 4: model = text_model4\n",
        "  line = line + \".  \" + model.make_sentence(tries=100)\n",
        "print(line)\n",
        "\n"
      ],
      "execution_count": 97,
      "outputs": [
        {
          "output_type": "stream",
          "name": "stdout",
          "text": [
            "Normally I would agree, but I think you know the answer to this?.  Be sure to echo!.  Trump Has 13 Paths to Win Over Joe “Predator” Biden”.  He makes the hair stand up on my profile.. Be blessed!.  We will continue to demonstrate that we are a nation of political will..  Now they're gonna be wondering what is going on. So I suggest you shut it for a few months. Trying to figure out how all of this works! 🤪😂.  Exactly, that’s what we think of our great country...  This is true...I have hashtaging all over the killing of babies to die in the next president. 🤷.  This should never have a clue everyone, that’s were the rest? Stop trying to cause extensive chaos in the middle of the two Democrats running against or for arson to take time to look smart..  They are simply there to keep you from knowing about it..  Joe is messed up eye over what good has the ability to think for the likes of this and open borders policies - it wasn't what you call yourself a patriot. Alway facts and come together for their skin tell me that trump won and has merit..  Huge: FBI Finally Looking Into Significant Voter Fraud Claims Pertaining to Hundreds of Thousands of Completed Ballots Across Three State Lines.  Shaming you for wearing one, while I would not do and do not do what is best for the country. Pure genius! 🙄.  Rep. Ilhan Omar (D-MN) says the *United Arab Countries” must be brought to the President when they told her to Go Pound Sand.  PORK for OTHER COUNTRIES. It's bullshit. Just as I thought it would be nice if she would shut up and produce something useful....  They said he had heard that from day one and only doing this crap and unfairness they are now. Shock..  Reprehensible party will throw entire country under the bus to be President. @Dbongino @KayleighMcEnany @TedCruz.  Killing shop owners in Brooklyn.  Another one of my kids it would be partisan ? Wow peoples safety is Partisan ?.  She must be quite near the top of the list is long of traitors. I just put you on a job but fine you for not backing down ?? Now they have a chance in hell of getting an echo option for individual comments in response to the fireworks right now so of course 90 yr old will change the votes to prevent Biden from.  Wow the top 0.1%. That pig should stop at the door and ask for a light pair of heels boy..  Don’t count Trump out so badly for you at.  It’s just that simple. This is true regardless of supposed fact checkers. Ridiculous!.  Haha I knew that anyway\n"
          ]
        }
      ]
    }
  ]
}
