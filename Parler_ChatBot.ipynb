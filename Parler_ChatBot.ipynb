{
  "nbformat": 4,
  "nbformat_minor": 0,
  "metadata": {
    "colab": {
      "name": "Parler ChatBot - v1.ipynb",
      "provenance": [],
      "collapsed_sections": [],
      "authorship_tag": "ABX9TyOIifE84d62Gy8dAJX1ECJK",
      "include_colab_link": true
    },
    "kernelspec": {
      "name": "python3",
      "display_name": "Python 3"
    },
    "language_info": {
      "name": "python"
    }
  },
  "cells": [
    {
      "cell_type": "markdown",
      "metadata": {
        "id": "view-in-github",
        "colab_type": "text"
      },
      "source": [
        "<a href=\"https://colab.research.google.com/github/brownt47/NLP_Projects/blob/main/Parler_ChatBot.ipynb\" target=\"_parent\"><img src=\"https://colab.research.google.com/assets/colab-badge.svg\" alt=\"Open In Colab\"/></a>"
      ]
    },
    {
      "cell_type": "code",
      "metadata": {
        "id": "eP9wnJyVaIZn"
      },
      "source": [
        "#!pip install markovify\n"
      ],
      "execution_count": 192,
      "outputs": []
    },
    {
      "cell_type": "code",
      "metadata": {
        "id": "dyOxlaFVaQ6i"
      },
      "source": [
        "import markovify\n",
        "import pandas as pd\n",
        "import numpy as np\n",
        "from nltk import ngrams\n",
        "import random"
      ],
      "execution_count": 193,
      "outputs": []
    },
    {
      "cell_type": "markdown",
      "metadata": {
        "id": "NOhLuiOu2Io2"
      },
      "source": [
        "## Import the comments"
      ]
    },
    {
      "cell_type": "code",
      "metadata": {
        "id": "6EZzFKUkp-IJ"
      },
      "source": [
        "data = pd.read_csv('comments.csv')\n",
        "data.columns = ['comment']"
      ],
      "execution_count": 219,
      "outputs": []
    },
    {
      "cell_type": "code",
      "metadata": {
        "colab": {
          "base_uri": "https://localhost:8080/"
        },
        "id": "JmJeyOSawSwE",
        "outputId": "f7ec1e30-d856-4c0a-cf5a-d7aaa5c375f8"
      },
      "source": [
        "len(data)"
      ],
      "execution_count": 220,
      "outputs": [
        {
          "output_type": "execute_result",
          "data": {
            "text/plain": [
              "37268"
            ]
          },
          "metadata": {},
          "execution_count": 220
        }
      ]
    },
    {
      "cell_type": "code",
      "metadata": {
        "colab": {
          "base_uri": "https://localhost:8080/",
          "height": 409
        },
        "id": "HyVINqYTwVOe",
        "outputId": "c712d4e8-10c9-44d5-ab28-f25fe6996bf0"
      },
      "source": [
        "data"
      ],
      "execution_count": 221,
      "outputs": [
        {
          "output_type": "execute_result",
          "data": {
            "text/html": [
              "<div>\n",
              "<style scoped>\n",
              "    .dataframe tbody tr th:only-of-type {\n",
              "        vertical-align: middle;\n",
              "    }\n",
              "\n",
              "    .dataframe tbody tr th {\n",
              "        vertical-align: top;\n",
              "    }\n",
              "\n",
              "    .dataframe thead th {\n",
              "        text-align: right;\n",
              "    }\n",
              "</style>\n",
              "<table border=\"1\" class=\"dataframe\">\n",
              "  <thead>\n",
              "    <tr style=\"text-align: right;\">\n",
              "      <th></th>\n",
              "      <th>comment</th>\n",
              "    </tr>\n",
              "  </thead>\n",
              "  <tbody>\n",
              "    <tr>\n",
              "      <th>0</th>\n",
              "      <td>🇺🇸🇺🇸🇺🇸🇺🇸🇺🇸🇺🇸🇺🇸🇺🇸🇺🇸🇺🇸🇺🇸🇺🇸🇺🇸🇺🇸🇺🇸🇺🇸🇺🇸RESPECT!🇺🇸🇺🇸...</td>\n",
              "    </tr>\n",
              "    <tr>\n",
              "      <th>1</th>\n",
              "      <td>Echo!</td>\n",
              "    </tr>\n",
              "    <tr>\n",
              "      <th>2</th>\n",
              "      <td>🏴󠁧󠁢󠁥󠁮󠁧󠁿🇬🇧👍</td>\n",
              "    </tr>\n",
              "    <tr>\n",
              "      <th>3</th>\n",
              "      <td>ALL DO.. I WILL WATCH WHEN THEY GIVE HIM THE L...</td>\n",
              "    </tr>\n",
              "    <tr>\n",
              "      <th>4</th>\n",
              "      <td>“STOP ALL Testing” Says Top Pathologist &amp; COVI...</td>\n",
              "    </tr>\n",
              "    <tr>\n",
              "      <th>...</th>\n",
              "      <td>...</td>\n",
              "    </tr>\n",
              "    <tr>\n",
              "      <th>37263</th>\n",
              "      <td>I just joined Parler! Looking forward to meeti...</td>\n",
              "    </tr>\n",
              "    <tr>\n",
              "      <th>37264</th>\n",
              "      <td>Why the prospective $70 billion buyout of Walg...</td>\n",
              "    </tr>\n",
              "    <tr>\n",
              "      <th>37265</th>\n",
              "      <td>The tree of liberty needs to be refreshed ... ...</td>\n",
              "    </tr>\n",
              "    <tr>\n",
              "      <th>37266</th>\n",
              "      <td>MeToo Movement Refused to Help Woman Who Accus...</td>\n",
              "    </tr>\n",
              "    <tr>\n",
              "      <th>37267</th>\n",
              "      <td>THE SUPREME COURT WILL.</td>\n",
              "    </tr>\n",
              "  </tbody>\n",
              "</table>\n",
              "<p>37268 rows × 1 columns</p>\n",
              "</div>"
            ],
            "text/plain": [
              "                                                 comment\n",
              "0      🇺🇸🇺🇸🇺🇸🇺🇸🇺🇸🇺🇸🇺🇸🇺🇸🇺🇸🇺🇸🇺🇸🇺🇸🇺🇸🇺🇸🇺🇸🇺🇸🇺🇸RESPECT!🇺🇸🇺🇸...\n",
              "1                                                  Echo!\n",
              "2                                             🏴󠁧󠁢󠁥󠁮󠁧󠁿🇬🇧👍\n",
              "3      ALL DO.. I WILL WATCH WHEN THEY GIVE HIM THE L...\n",
              "4      “STOP ALL Testing” Says Top Pathologist & COVI...\n",
              "...                                                  ...\n",
              "37263  I just joined Parler! Looking forward to meeti...\n",
              "37264  Why the prospective $70 billion buyout of Walg...\n",
              "37265  The tree of liberty needs to be refreshed ... ...\n",
              "37266  MeToo Movement Refused to Help Woman Who Accus...\n",
              "37267                            THE SUPREME COURT WILL.\n",
              "\n",
              "[37268 rows x 1 columns]"
            ]
          },
          "metadata": {},
          "execution_count": 221
        }
      ]
    },
    {
      "cell_type": "markdown",
      "metadata": {
        "id": "1E1r6DxcqRuX"
      },
      "source": [
        "# Build the markovify models for various n-grams"
      ]
    },
    {
      "cell_type": "code",
      "metadata": {
        "id": "Bmz9s0_6JoIb"
      },
      "source": [
        "corpus = data.comment\n",
        "text_model1 = markovify.NewlineText(corpus, state_size=1, well_formed=False)\n",
        "text_model2 = markovify.NewlineText(corpus, state_size=2, well_formed=False)\n",
        "text_model3 = markovify.NewlineText(corpus, state_size=3, well_formed=False)\n",
        "text_model4 = markovify.NewlineText(corpus, state_size=4, well_formed=False)\n",
        "text_model5 = markovify.NewlineText(corpus, state_size=5, well_formed=False)\n"
      ],
      "execution_count": 222,
      "outputs": []
    },
    {
      "cell_type": "markdown",
      "metadata": {
        "id": "ej6Blu9s0-iu"
      },
      "source": [
        "### Helper function to generate *n*-number of comments"
      ]
    },
    {
      "cell_type": "code",
      "metadata": {
        "id": "N_tTHCTv0GFc"
      },
      "source": [
        "def posts(model, n):\n",
        "  for i in range(n):\n",
        "    line = None\n",
        "    while line == None: \n",
        "      line = model.make_sentence(tries=100,max_overlap_ratio = .98)\n",
        "    print(str(line) + \"\\n\")"
      ],
      "execution_count": 300,
      "outputs": []
    },
    {
      "cell_type": "markdown",
      "metadata": {
        "id": "HSeRlKTpxEL9"
      },
      "source": [
        "### n-grams = 1"
      ]
    },
    {
      "cell_type": "code",
      "metadata": {
        "colab": {
          "base_uri": "https://localhost:8080/"
        },
        "id": "ozdGr6yqxD4L",
        "outputId": "50f82c84-8981-44fb-ed82-6b45f68ca84c"
      },
      "source": [
        "posts(text_model1, 5)"
      ],
      "execution_count": 284,
      "outputs": [
        {
          "output_type": "stream",
          "name": "stdout",
          "text": [
            "What does not avoiding a Twitter for the UK recipe.\n",
            "\n",
            "By Pushing protesters warn you are) but we see the fuck up with?!?\n",
            "\n",
            "I just joined Parler! Looking forward to be taken away with their business owner...yacht repair a few weeks now.🤣👍🏻\n",
            "\n",
            "I have become a traitor terrorist outrages committed fraud - be done is a residual manisfestations of respect him. It’d be on\n",
            "\n",
            "@Bfinn1 The fact of all protect historical name every other sources confirming being sidetracked and American citizens will do not want to harass and Follow---------------------- #GODBLESSAMERICA #TRUMP #TRUMP2020\n",
            "\n"
          ]
        }
      ]
    },
    {
      "cell_type": "markdown",
      "metadata": {
        "id": "MBdp5UHVnX-O"
      },
      "source": [
        "### n-grams = 2"
      ]
    },
    {
      "cell_type": "code",
      "metadata": {
        "colab": {
          "base_uri": "https://localhost:8080/"
        },
        "id": "E1U7V2f5nW4L",
        "outputId": "9cda299c-a507-4e92-8b6a-dc91d1f81e80"
      },
      "source": [
        "posts(text_model2, 5)"
      ],
      "execution_count": 285,
      "outputs": [
        {
          "output_type": "stream",
          "name": "stdout",
          "text": [
            "Please stay and bring lighting down. 👍\n",
            "\n",
            "Newsmax: We're Not Calling Election for Biden cause he is tweeting. Please notice on that if joe does win, how many really know how the media blackouts and suppression of opposition and burn cities to the information given to my beautiful black body. How could he ? Biden supports terrorists of Antifa violence extremism.\"\n",
            "\n",
            "@KokichiOumaHatesTrump Why the Liberal Govt! This is what we’re dealing with Leftist thugs are being manipulated by the abuse!🤭\n",
            "\n",
            "@PatrickHolzer Gangs have never had a Republican\n",
            "\n",
            "Ronald and Donald trump\n",
            "\n"
          ]
        }
      ]
    },
    {
      "cell_type": "markdown",
      "metadata": {
        "id": "C0bUefQcndPG"
      },
      "source": [
        "### n-grams = 3"
      ]
    },
    {
      "cell_type": "code",
      "metadata": {
        "colab": {
          "base_uri": "https://localhost:8080/"
        },
        "id": "XoDHd3VfnWwi",
        "outputId": "2daae4ae-fa73-4821-adde-5b56adf74aa7"
      },
      "source": [
        "posts(text_model3, 5)"
      ],
      "execution_count": 286,
      "outputs": [
        {
          "output_type": "stream",
          "name": "stdout",
          "text": [
            "During your presidential acceptance speech, you were calling for the immediate suspension of all SARS-CoV-2 vaccine studies.\"\n",
            "\n",
            "Please help....I tried on Twitter to many of them when I ran for CA-45 #KAG2020\n",
            "\n",
            "She is threatening Trump supporters and our love of this country.\n",
            "\n",
            "Joe Biden’s “peaceful protestors,” better known as the Democrat, RINO, Republican establishment ROBBED social security to pay for drop boxes, machines, judges, and targeted voter outreach. #MAGA #AmericaFirst #Dobbs\n",
            "\n",
            "The FDA is not a single thing anywhere about that? You have now been officially beat like a little rabbits in a Hole‼️\n",
            "\n"
          ]
        }
      ]
    },
    {
      "cell_type": "markdown",
      "metadata": {
        "id": "b6B1UGPlnjLk"
      },
      "source": [
        "### n-grams = 4"
      ]
    },
    {
      "cell_type": "code",
      "metadata": {
        "colab": {
          "base_uri": "https://localhost:8080/"
        },
        "id": "t_pFF9Otfcx6",
        "outputId": "0845548d-bc32-4689-c19c-74cc9985a137"
      },
      "source": [
        "posts(text_model4, 5)"
      ],
      "execution_count": 287,
      "outputs": [
        {
          "output_type": "stream",
          "name": "stdout",
          "text": [
            "@Markdillard437 And I'm not a republican either.. I choose to think for myself and I don’t need a safe space- isn’t Parler a safe space for Trumpers?\n",
            "\n",
            "Don’t worry, Joe Biden will get to the bottom of voter fraud and many are your former viewers.\n",
            "\n",
            "The video below summarises whats has been going on for the last seven months.\n",
            "\n",
            "White liberals crack me up. Acting like they know what's best for me and my house, we will serve the Lord .\n",
            "\n",
            "I think for myself and I don’t need a safe space- isn’t Parler a safe space for Trumpers?\n",
            "\n"
          ]
        }
      ]
    },
    {
      "cell_type": "markdown",
      "metadata": {
        "id": "w-TZcjf-nnmD"
      },
      "source": [
        "### n-grams = 5"
      ]
    },
    {
      "cell_type": "code",
      "metadata": {
        "colab": {
          "base_uri": "https://localhost:8080/"
        },
        "id": "oxnZFqGbnqJB",
        "outputId": "075ec3b3-f03d-4615-f5dc-a2a1464ae727"
      },
      "source": [
        "posts(text_model5, 5)"
      ],
      "execution_count": 288,
      "outputs": [
        {
          "output_type": "stream",
          "name": "stdout",
          "text": [
            "@TRUMPCHICK20 I love the country, I used to live in Tampa by the Buccaneer stadium!\n",
            "\n",
            "@Ponky \"The reason you dont get this, let me tell you how you believe and be an arbiter of truth to you.\"\n",
            "\n",
            "@Sheldonferguson4 Keep me updated. Let me know if you want to know the truth....\n",
            "\n",
            "Pic #3 - #Douche Murderer (Notice a difference in the badge? Looks more like a patch to me..)\n",
            "\n",
            "@PieterVoorwinden They are bringing news. Just because you don’t agree with it doesn’t mean it isn’t true.\n",
            "\n"
          ]
        }
      ]
    },
    {
      "cell_type": "markdown",
      "metadata": {
        "id": "3JiJZn3mjKw5"
      },
      "source": [
        "# Generate long rants\n",
        ">  Create Storybook - concatenates all comments into one confusing story.\n",
        "\n",
        ">  Observe for n = 4 and 5 the prevalence of hashtags and @usernames being generated"
      ]
    },
    {
      "cell_type": "code",
      "metadata": {
        "id": "LmWgbmF4jeQE"
      },
      "source": [
        "storybook = \"\""
      ],
      "execution_count": 289,
      "outputs": []
    },
    {
      "cell_type": "code",
      "metadata": {
        "id": "SqYgQkhrfqzy"
      },
      "source": [
        "for comment in filename.x:\n",
        "  storybook = storybook + str(comment) + \".  \"  \n",
        "  #correct, two spaces after the period.  Some habits refuse to die.\n",
        "  "
      ],
      "execution_count": 290,
      "outputs": []
    },
    {
      "cell_type": "code",
      "metadata": {
        "colab": {
          "base_uri": "https://localhost:8080/"
        },
        "id": "64GblyTFwO_u",
        "outputId": "d1e36ce9-9e30-4971-a697-32867b6d4f4c"
      },
      "source": [
        "len(storybook)"
      ],
      "execution_count": 291,
      "outputs": [
        {
          "output_type": "execute_result",
          "data": {
            "text/plain": [
              "4986881"
            ]
          },
          "metadata": {},
          "execution_count": 291
        }
      ]
    },
    {
      "cell_type": "markdown",
      "metadata": {
        "id": "AopauYZ24Rfb"
      },
      "source": [
        "### Create markovify models based on the storybook"
      ]
    },
    {
      "cell_type": "code",
      "metadata": {
        "id": "CxfQUNFoydFn"
      },
      "source": [
        "story_model1 = markovify.NewlineText(storybook, state_size=1, well_formed=False)\n",
        "story_model2 = markovify.NewlineText(storybook, state_size=2, well_formed=False)\n",
        "story_model3 = markovify.NewlineText(storybook, state_size=3, well_formed=False)\n",
        "story_model4 = markovify.NewlineText(storybook, state_size=4, well_formed=False)\n",
        "story_model5 = markovify.NewlineText(storybook, state_size=5, well_formed=False)"
      ],
      "execution_count": 292,
      "outputs": []
    },
    {
      "cell_type": "code",
      "metadata": {
        "id": "SWIG3MFv5fpN"
      },
      "source": [
        ""
      ],
      "execution_count": 292,
      "outputs": []
    },
    {
      "cell_type": "markdown",
      "metadata": {
        "id": "vOrH4PoS5gvo"
      },
      "source": [
        "#### Helper function to generate long comments or rants"
      ]
    },
    {
      "cell_type": "code",
      "metadata": {
        "id": "WIeFr_lM5gvp"
      },
      "source": [
        "def rant(model, n, length):\n",
        "  for i in range(n):\n",
        "    line = None\n",
        "    while line == None:\n",
        "      line = model.make_sentence(tries=1000,max_overlap_ratio = .8)\n",
        "      if (line != None and len(line)<length): line=None\n",
        "    print(str(line) + \"\\n\")"
      ],
      "execution_count": 293,
      "outputs": []
    },
    {
      "cell_type": "code",
      "metadata": {
        "colab": {
          "base_uri": "https://localhost:8080/"
        },
        "id": "g6gP4p6cyvC-",
        "outputId": "ea359ff3-d42b-48e9-bd93-cc5643cd1ece"
      },
      "source": [
        "rant(story_model1, 1, 300)"
      ],
      "execution_count": 294,
      "outputs": [
        {
          "output_type": "stream",
          "name": "stdout",
          "text": [
            "That Joe Biden. I may want to meeting everyone here.. 🇺🇸. I said yes. 😂😂😂😂. Mike Huckabee. Wife of us, our nation has zero fraud exists, but you the force.. @monokumaofficial Even though is defined by allowing children in the universe. I just joined Parler! Looking forward to speak! Screw their opinions in the Georgia Election Was just joined Parler! Looking forward to a great day.. @Donald45Trump Whaaaattt?????\n",
            "\n"
          ]
        }
      ]
    },
    {
      "cell_type": "code",
      "metadata": {
        "colab": {
          "base_uri": "https://localhost:8080/"
        },
        "id": "H5F88qvB4Z04",
        "outputId": "7a8ca8d7-c3eb-4486-a205-8eddd98ff42d"
      },
      "source": [
        "rant(story_model2, 1, 300)"
      ],
      "execution_count": 295,
      "outputs": [
        {
          "output_type": "stream",
          "name": "stdout",
          "text": [
            "Eu já vi títulos serem publicados em situações ainda mais deploráveis e o número de pessoas. Great to text me on my own research, albeit, I did watch some of my girlfriends son thinks its ok to go along with the teleprompter. How far is an enemy that routinely used women, children and the “Squad”, supports the democratic party, the true crime.\n",
            "\n"
          ]
        }
      ]
    },
    {
      "cell_type": "code",
      "metadata": {
        "colab": {
          "base_uri": "https://localhost:8080/"
        },
        "id": "Cz44bPAp4Zox",
        "outputId": "4c95078d-498a-46ef-840a-07ab99191dbf"
      },
      "source": [
        "rant(story_model3, 1, 300)"
      ],
      "execution_count": 296,
      "outputs": [
        {
          "output_type": "stream",
          "name": "stdout",
          "text": [
            "Fact of Scripture: Mark 16:16 \"He who believes and is justified, and with the Republican Garcia up by 405, it seems certain he will be an entertaining four years for sure!🤪🤪🤪🤪🤪🤪. @GregMean Wrong. You have made some good points. Perhaps the most we can do sure, and we are, but don’t think that we have already separated ourselves from each other over the last 4 years you would’ve expected this! President Trump has won this election in landslide period.. @Hamm3rtim3 Donald trump babe 😘😘. @benissimp Yes?\n",
            "\n"
          ]
        }
      ]
    },
    {
      "cell_type": "code",
      "metadata": {
        "colab": {
          "base_uri": "https://localhost:8080/"
        },
        "id": "L1CX5Hx04Zgu",
        "outputId": "e8aab17d-8c8e-41ea-db38-ede6e7fcac4f"
      },
      "source": [
        "rant(story_model4, 1, 200)"
      ],
      "execution_count": 297,
      "outputs": [
        {
          "output_type": "stream",
          "name": "stdout",
          "text": [
            "#PedoGate #Democrats #DemocratDoubleStandards #Pennsylvania #DemsAreToast #SaveTheChildren #Trump2020. .... This is a national disgrace.. Check this out. Headline: HEALTH EXPERTS SUPPORT ANTI-POLICE PROTESTS\n",
            "\n"
          ]
        }
      ]
    },
    {
      "cell_type": "code",
      "metadata": {
        "colab": {
          "base_uri": "https://localhost:8080/"
        },
        "id": "rOsSwcDR4ZXw",
        "outputId": "e8b77f4c-489b-4783-9a03-c2473de6573a"
      },
      "source": [
        "rant(story_model5, 1, 200)"
      ],
      "execution_count": 302,
      "outputs": [
        {
          "output_type": "stream",
          "name": "stdout",
          "text": [
            "@moon52 @deplorableearl @fatherofessen @hadati @janaurora @lakemonstercl @mickelodoole @ak1coleman @carolsievers88 @cmccbyfaith @tc69 @pinkk9lover @meetmichael @phoenixrising @dsware123 @johnbugaj @lipstickandyellowroses @lorettashere @willywonka @barnett20todd @bobbym625 @laurelmaga\n",
            "\n"
          ]
        }
      ]
    },
    {
      "cell_type": "markdown",
      "metadata": {
        "id": "fKoS2pMliUXN"
      },
      "source": [
        "## Other models to come\n",
        "> Using NLTK ngrams"
      ]
    },
    {
      "cell_type": "code",
      "metadata": {
        "colab": {
          "base_uri": "https://localhost:8080/"
        },
        "id": "vxZ9Ai11iOiO",
        "outputId": "57a69fe0-5e91-45bc-e695-2821bc3d3340"
      },
      "source": [
        "text = storybook\n",
        "n = 2\n",
        "\n",
        "n_grams = list(ngrams(text.split(), n))\n",
        "\n",
        "sentence = ''\n",
        "\n",
        "for i in range(5):\n",
        "    r = random.randint(0,50)\n",
        "    next_word = n_grams[r]\n",
        "    sentence = sentence + ' ' + str(next_word)\n",
        "\n",
        "print(sentence)"
      ],
      "execution_count": 304,
      "outputs": [
        {
          "output_type": "stream",
          "name": "stdout",
          "text": [
            " ('Pathologist', '&') ('Dr.', 'Roger') ('Dr.', 'Roger') ('HIM', 'THE') ('Top', 'Pathologist')\n"
          ]
        }
      ]
    },
    {
      "cell_type": "code",
      "metadata": {
        "id": "1DAA-BzgihId"
      },
      "source": [
        ""
      ],
      "execution_count": 299,
      "outputs": []
    }
  ]
}