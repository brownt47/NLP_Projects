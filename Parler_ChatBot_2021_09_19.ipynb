{
  "nbformat": 4,
  "nbformat_minor": 0,
  "metadata": {
    "colab": {
      "name": "Parler ChatBot - v1.ipynb",
      "provenance": [],
      "collapsed_sections": [],
      "authorship_tag": "ABX9TyNVL69jRMxnvv3th3K66wH5",
      "include_colab_link": true
    },
    "kernelspec": {
      "name": "python3",
      "display_name": "Python 3"
    },
    "language_info": {
      "name": "python"
    }
  },
  "cells": [
    {
      "cell_type": "markdown",
      "metadata": {
        "id": "view-in-github",
        "colab_type": "text"
      },
      "source": [
        "<a href=\"https://colab.research.google.com/github/brownt47/NLP_Projects/blob/main/Parler_ChatBot_2021_09_19.ipynb\" target=\"_parent\"><img src=\"https://colab.research.google.com/assets/colab-badge.svg\" alt=\"Open In Colab\"/></a>"
      ]
    },
    {
      "cell_type": "code",
      "metadata": {
        "id": "eP9wnJyVaIZn",
        "colab": {
          "base_uri": "https://localhost:8080/"
        },
        "outputId": "cb78f334-8026-4574-f53e-8aa1d3d5e26d"
      },
      "source": [
        "#pip install markovify\n"
      ],
      "execution_count": 6,
      "outputs": [
        {
          "output_type": "stream",
          "name": "stdout",
          "text": [
            "Requirement already satisfied: markovify in /usr/local/lib/python3.7/dist-packages (0.9.3)\n",
            "Requirement already satisfied: unidecode in /usr/local/lib/python3.7/dist-packages (from markovify) (1.3.2)\n"
          ]
        }
      ]
    },
    {
      "cell_type": "code",
      "metadata": {
        "id": "dyOxlaFVaQ6i"
      },
      "source": [
        "import markovify\n",
        "import pandas as pd\n",
        "import numpy as np\n",
        "from nltk import ngrams\n",
        "import random"
      ],
      "execution_count": 7,
      "outputs": []
    },
    {
      "cell_type": "markdown",
      "metadata": {
        "id": "NOhLuiOu2Io2"
      },
      "source": [
        "## Import the comments"
      ]
    },
    {
      "cell_type": "code",
      "metadata": {
        "id": "6EZzFKUkp-IJ"
      },
      "source": [
        "data = pd.read_csv('comments.csv')\n",
        "data.columns = ['comment']"
      ],
      "execution_count": 8,
      "outputs": []
    },
    {
      "cell_type": "code",
      "metadata": {
        "colab": {
          "base_uri": "https://localhost:8080/"
        },
        "id": "JmJeyOSawSwE",
        "outputId": "b9e2fbdc-15d6-44fa-fa8d-b57015f1018c"
      },
      "source": [
        "len(data)"
      ],
      "execution_count": 9,
      "outputs": [
        {
          "output_type": "execute_result",
          "data": {
            "text/plain": [
              "37268"
            ]
          },
          "metadata": {},
          "execution_count": 9
        }
      ]
    },
    {
      "cell_type": "code",
      "metadata": {
        "colab": {
          "base_uri": "https://localhost:8080/",
          "height": 409
        },
        "id": "HyVINqYTwVOe",
        "outputId": "09d6a41a-cbda-494e-e0aa-097bafc810b7"
      },
      "source": [
        "data"
      ],
      "execution_count": 10,
      "outputs": [
        {
          "output_type": "execute_result",
          "data": {
            "text/html": [
              "<div>\n",
              "<style scoped>\n",
              "    .dataframe tbody tr th:only-of-type {\n",
              "        vertical-align: middle;\n",
              "    }\n",
              "\n",
              "    .dataframe tbody tr th {\n",
              "        vertical-align: top;\n",
              "    }\n",
              "\n",
              "    .dataframe thead th {\n",
              "        text-align: right;\n",
              "    }\n",
              "</style>\n",
              "<table border=\"1\" class=\"dataframe\">\n",
              "  <thead>\n",
              "    <tr style=\"text-align: right;\">\n",
              "      <th></th>\n",
              "      <th>comment</th>\n",
              "    </tr>\n",
              "  </thead>\n",
              "  <tbody>\n",
              "    <tr>\n",
              "      <th>0</th>\n",
              "      <td>🇺🇸🇺🇸🇺🇸🇺🇸🇺🇸🇺🇸🇺🇸🇺🇸🇺🇸🇺🇸🇺🇸🇺🇸🇺🇸🇺🇸🇺🇸🇺🇸🇺🇸RESPECT!🇺🇸🇺🇸...</td>\n",
              "    </tr>\n",
              "    <tr>\n",
              "      <th>1</th>\n",
              "      <td>Echo!</td>\n",
              "    </tr>\n",
              "    <tr>\n",
              "      <th>2</th>\n",
              "      <td>🏴󠁧󠁢󠁥󠁮󠁧󠁿🇬🇧👍</td>\n",
              "    </tr>\n",
              "    <tr>\n",
              "      <th>3</th>\n",
              "      <td>ALL DO.. I WILL WATCH WHEN THEY GIVE HIM THE L...</td>\n",
              "    </tr>\n",
              "    <tr>\n",
              "      <th>4</th>\n",
              "      <td>“STOP ALL Testing” Says Top Pathologist &amp; COVI...</td>\n",
              "    </tr>\n",
              "    <tr>\n",
              "      <th>...</th>\n",
              "      <td>...</td>\n",
              "    </tr>\n",
              "    <tr>\n",
              "      <th>37263</th>\n",
              "      <td>I just joined Parler! Looking forward to meeti...</td>\n",
              "    </tr>\n",
              "    <tr>\n",
              "      <th>37264</th>\n",
              "      <td>Why the prospective $70 billion buyout of Walg...</td>\n",
              "    </tr>\n",
              "    <tr>\n",
              "      <th>37265</th>\n",
              "      <td>The tree of liberty needs to be refreshed ... ...</td>\n",
              "    </tr>\n",
              "    <tr>\n",
              "      <th>37266</th>\n",
              "      <td>MeToo Movement Refused to Help Woman Who Accus...</td>\n",
              "    </tr>\n",
              "    <tr>\n",
              "      <th>37267</th>\n",
              "      <td>THE SUPREME COURT WILL.</td>\n",
              "    </tr>\n",
              "  </tbody>\n",
              "</table>\n",
              "<p>37268 rows × 1 columns</p>\n",
              "</div>"
            ],
            "text/plain": [
              "                                                 comment\n",
              "0      🇺🇸🇺🇸🇺🇸🇺🇸🇺🇸🇺🇸🇺🇸🇺🇸🇺🇸🇺🇸🇺🇸🇺🇸🇺🇸🇺🇸🇺🇸🇺🇸🇺🇸RESPECT!🇺🇸🇺🇸...\n",
              "1                                                  Echo!\n",
              "2                                             🏴󠁧󠁢󠁥󠁮󠁧󠁿🇬🇧👍\n",
              "3      ALL DO.. I WILL WATCH WHEN THEY GIVE HIM THE L...\n",
              "4      “STOP ALL Testing” Says Top Pathologist & COVI...\n",
              "...                                                  ...\n",
              "37263  I just joined Parler! Looking forward to meeti...\n",
              "37264  Why the prospective $70 billion buyout of Walg...\n",
              "37265  The tree of liberty needs to be refreshed ... ...\n",
              "37266  MeToo Movement Refused to Help Woman Who Accus...\n",
              "37267                            THE SUPREME COURT WILL.\n",
              "\n",
              "[37268 rows x 1 columns]"
            ]
          },
          "metadata": {},
          "execution_count": 10
        }
      ]
    },
    {
      "cell_type": "markdown",
      "metadata": {
        "id": "1E1r6DxcqRuX"
      },
      "source": [
        "# Build the markovify models for various n-grams"
      ]
    },
    {
      "cell_type": "code",
      "metadata": {
        "id": "Bmz9s0_6JoIb"
      },
      "source": [
        "corpus = data.comment\n",
        "text_model1 = markovify.NewlineText(corpus, state_size=1, well_formed=False)\n",
        "text_model2 = markovify.NewlineText(corpus, state_size=2, well_formed=False)\n",
        "text_model3 = markovify.NewlineText(corpus, state_size=3, well_formed=False)\n",
        "text_model4 = markovify.NewlineText(corpus, state_size=4, well_formed=False)\n",
        "text_model5 = markovify.NewlineText(corpus, state_size=5, well_formed=False)\n"
      ],
      "execution_count": 11,
      "outputs": []
    },
    {
      "cell_type": "markdown",
      "metadata": {
        "id": "ej6Blu9s0-iu"
      },
      "source": [
        "### Helper function to generate *n*-number of comments"
      ]
    },
    {
      "cell_type": "code",
      "metadata": {
        "id": "N_tTHCTv0GFc"
      },
      "source": [
        "def posts(model, n):\n",
        "  for i in range(n):\n",
        "    line = None\n",
        "    while line == None: \n",
        "      line = model.make_sentence(tries=100, max_overlap_ratio = .7, max_overlap_total = 15)\n",
        "    print(str(line) + \"\\n\")"
      ],
      "execution_count": 12,
      "outputs": []
    },
    {
      "cell_type": "markdown",
      "metadata": {
        "id": "HSeRlKTpxEL9"
      },
      "source": [
        "### n-grams = 1"
      ]
    },
    {
      "cell_type": "code",
      "metadata": {
        "colab": {
          "base_uri": "https://localhost:8080/"
        },
        "id": "ozdGr6yqxD4L",
        "outputId": "7c229550-ef8a-41c4-d5a5-453a5cecf34e"
      },
      "source": [
        "posts(text_model1, 5)"
      ],
      "execution_count": 13,
      "outputs": [
        {
          "output_type": "stream",
          "name": "stdout",
          "text": [
            "Consórcio Nordeste, a bill goes to meeting everyone here.\n",
            "\n",
            "In addition to keep her & the legitimate votes!! Highest than most, our app af­fords every­day cit­i­zens like it! Thank you won’t get senate....no way you be racist and we are many variants will be great number of the reason our tax cut so others\n",
            "\n",
            "• What a true\n",
            "\n",
            "Joe and a military is very patriotic rally tonight, making your Memes, No problem. Which is using these celebrities\n",
            "\n",
            "100 contacts with leaders that she supplied the responses to what you agreed that senile, kid yourself in America. May your life, I just saw him 😂 I just joined Parler! Looking forward to meeting everyone here.\n",
            "\n"
          ]
        }
      ]
    },
    {
      "cell_type": "markdown",
      "metadata": {
        "id": "MBdp5UHVnX-O"
      },
      "source": [
        "### n-grams = 2"
      ]
    },
    {
      "cell_type": "code",
      "metadata": {
        "colab": {
          "base_uri": "https://localhost:8080/"
        },
        "id": "E1U7V2f5nW4L",
        "outputId": "004d4947-3f3b-4c4a-f9a8-3dbccdd500c3"
      },
      "source": [
        "posts(text_model2, 5)"
      ],
      "execution_count": 14,
      "outputs": [
        {
          "output_type": "stream",
          "name": "stdout",
          "text": [
            "Maybe Snoop Dogg and the middle with cocked helmet raising his rifle..💖\n",
            "\n",
            "@Haaaifa يعجبني اصرارك يالعاطلة انا وراي دوام آخر دوام قبل الاختبارات 😔😂\n",
            "\n",
            "#hunterbiden #biden #biden2020 #trump2020 #laptopfromhell #hunterbidenlaptop #trump #trumptrain #truth #donaldtrump #trump2020landslide #silentmajority #kag2020 #kagpatriots #patriots #qanon #blm #blmterrorists #foxnews\n",
            "\n",
            "Moose are sometime more the big ones Elliott 😂😂👍🏻\n",
            "\n",
            "a lot more of your loser ass!\n",
            "\n"
          ]
        }
      ]
    },
    {
      "cell_type": "markdown",
      "metadata": {
        "id": "C0bUefQcndPG"
      },
      "source": [
        "### n-grams = 3"
      ]
    },
    {
      "cell_type": "code",
      "metadata": {
        "colab": {
          "base_uri": "https://localhost:8080/"
        },
        "id": "XoDHd3VfnWwi",
        "outputId": "bf8789bc-7ff5-4c45-e5f7-9fcb323dd126"
      },
      "source": [
        "posts(text_model3, 5)"
      ],
      "execution_count": 15,
      "outputs": [
        {
          "output_type": "stream",
          "name": "stdout",
          "text": [
            "A MUST SEE shocking documentary about child sex trafficking investigation turned into TV series\"\n",
            "\n",
            "Conservative parents, be willing to take that final step of defense and I always get the same context and everything that you do not believe anything harmful had happened this makes sense\n",
            "\n",
            "President Obama signed legislation Friday extending a payroll tax cut as GOP unveils virus aid\n",
            "\n",
            "@BonnieKarr You keep typing to make yourself feel better. This is not American Justice, this case needs to be confiscated!\n",
            "\n",
            "Who is in it for big pharma\n",
            "\n"
          ]
        }
      ]
    },
    {
      "cell_type": "markdown",
      "metadata": {
        "id": "b6B1UGPlnjLk"
      },
      "source": [
        "### n-grams = 4"
      ]
    },
    {
      "cell_type": "code",
      "metadata": {
        "colab": {
          "base_uri": "https://localhost:8080/"
        },
        "id": "t_pFF9Otfcx6",
        "outputId": "e99de482-b4a6-46b9-813a-ae4561524605"
      },
      "source": [
        "posts(text_model4, 5)"
      ],
      "execution_count": 16,
      "outputs": [
        {
          "output_type": "stream",
          "name": "stdout",
          "text": [
            "To be the POTUS shouldn’t you be able to film porn in the middle of the night. Great...\n",
            "\n",
            ".@TheardDad: “Just watched your GITMO film. Outstanding work. Thank you for your kind words. It will encourage me to get it published!!\n",
            "\n",
            "All of this has been planned and in the works for a long time. They will continue to cheat and steal an election they're going to have to fight like the devil to\n",
            "\n",
            "People don’t want to be lectured, they just want to live here, not integrate & live by the law of our lands🤷‍♀️\n",
            "\n",
            "much more to this than you will ever be. You have no ideology.\n",
            "\n"
          ]
        }
      ]
    },
    {
      "cell_type": "markdown",
      "metadata": {
        "id": "w-TZcjf-nnmD"
      },
      "source": [
        "### n-grams = 5"
      ]
    },
    {
      "cell_type": "code",
      "metadata": {
        "colab": {
          "base_uri": "https://localhost:8080/"
        },
        "id": "oxnZFqGbnqJB",
        "outputId": "a04e0e71-bdc6-4c66-dc62-e554d014cf1d"
      },
      "source": [
        "posts(text_model5, 5)"
      ],
      "execution_count": 17,
      "outputs": [
        {
          "output_type": "stream",
          "name": "stdout",
          "text": [
            "#Trigun has to be one of the most popular Christmas decorations...\n",
            "\n",
            "@TRUMPCHICK20 I love the country, I used to live in Tampa by the Buccaneer stadium!\n",
            "\n",
            "@Harleybiker97 Call me when you take Joe’s cock out of your mouth so I can understand you\n",
            "\n",
            "Joe has always lied over and over and over and over and over again...This is a well written article.\n",
            "\n",
            "Just joined trying to learn how to use logic before voting!!\n",
            "\n"
          ]
        }
      ]
    },
    {
      "cell_type": "markdown",
      "metadata": {
        "id": "3JiJZn3mjKw5"
      },
      "source": [
        "# Generate long rants\n",
        ">  Create Storybook - concatenates all comments into one confusing story.\n",
        "\n",
        ">  Observe for n = 4 and 5 the prevalence of hashtags and @usernames being generated"
      ]
    },
    {
      "cell_type": "code",
      "metadata": {
        "id": "LmWgbmF4jeQE"
      },
      "source": [
        "storybook = \"\""
      ],
      "execution_count": 18,
      "outputs": []
    },
    {
      "cell_type": "code",
      "metadata": {
        "id": "SqYgQkhrfqzy"
      },
      "source": [
        "for comment in corpus:\n",
        "  storybook = storybook + str(comment) + \".  \"  \n",
        "  #correct, two spaces after the period.  Some habits refuse to die.\n",
        "  "
      ],
      "execution_count": 19,
      "outputs": []
    },
    {
      "cell_type": "code",
      "metadata": {
        "colab": {
          "base_uri": "https://localhost:8080/"
        },
        "id": "64GblyTFwO_u",
        "outputId": "1456479b-9f33-4b90-ed7b-6c708f9e8c4b"
      },
      "source": [
        "len(storybook)"
      ],
      "execution_count": 20,
      "outputs": [
        {
          "output_type": "execute_result",
          "data": {
            "text/plain": [
              "4986881"
            ]
          },
          "metadata": {},
          "execution_count": 20
        }
      ]
    },
    {
      "cell_type": "markdown",
      "metadata": {
        "id": "AopauYZ24Rfb"
      },
      "source": [
        "### Create markovify models based on the storybook"
      ]
    },
    {
      "cell_type": "code",
      "metadata": {
        "id": "CxfQUNFoydFn"
      },
      "source": [
        "story_model1 = markovify.NewlineText(storybook, state_size=1, well_formed=False)\n",
        "story_model2 = markovify.NewlineText(storybook, state_size=2, well_formed=False)\n",
        "story_model3 = markovify.NewlineText(storybook, state_size=3, well_formed=False)\n",
        "story_model4 = markovify.NewlineText(storybook, state_size=4, well_formed=False)\n",
        "story_model5 = markovify.NewlineText(storybook, state_size=5, well_formed=False)"
      ],
      "execution_count": 21,
      "outputs": []
    },
    {
      "cell_type": "code",
      "metadata": {
        "id": "SWIG3MFv5fpN"
      },
      "source": [
        ""
      ],
      "execution_count": 21,
      "outputs": []
    },
    {
      "cell_type": "markdown",
      "metadata": {
        "id": "vOrH4PoS5gvo"
      },
      "source": [
        "#### Helper function to generate long comments or rants"
      ]
    },
    {
      "cell_type": "code",
      "metadata": {
        "id": "WIeFr_lM5gvp"
      },
      "source": [
        "def rant(model, n, length):\n",
        "  for i in range(n):\n",
        "    line = None\n",
        "    while line == None:\n",
        "      line = model.make_sentence(tries=1000,max_overlap_ratio = .8)\n",
        "      if (line != None and len(line)<length): line=None\n",
        "    print(str(line) + \"\\n\")"
      ],
      "execution_count": 22,
      "outputs": []
    },
    {
      "cell_type": "code",
      "metadata": {
        "colab": {
          "base_uri": "https://localhost:8080/"
        },
        "id": "g6gP4p6cyvC-",
        "outputId": "58bfccec-9d70-4482-ed88-51fd63f13cf5"
      },
      "source": [
        "rant(story_model1, 1, 300)"
      ],
      "execution_count": 23,
      "outputs": [
        {
          "output_type": "stream",
          "name": "stdout",
          "text": [
            "Group Pushes Six Days to feed page. It’s the 4 months long before departing WH Holds Hearing - The Dan Scavino Jr. Warns Everyone save you do and burners wanted it from Twitter removes NaziNancy first. He started and how these crooked Mark Zuckerberg. Open to site! lol! Hi, @Sussex 👋). @KaylaApple Thank you need to meeting everyone here.. Forensic Review of packed their asinine implication is coming out of us over, colluding with Kamala Harris Brings Extreme COVID Vaccine For those interviews? If they look at 12pm.\n",
            "\n"
          ]
        }
      ]
    },
    {
      "cell_type": "code",
      "metadata": {
        "colab": {
          "base_uri": "https://localhost:8080/"
        },
        "id": "H5F88qvB4Z04",
        "outputId": "e767981e-3a2d-4f16-b447-c4b5f337a8e9"
      },
      "source": [
        "rant(story_model2, 1, 300)"
      ],
      "execution_count": 24,
      "outputs": [
        {
          "output_type": "stream",
          "name": "stdout",
          "text": [
            "We need Voter ID in America! It will be reading @epochtimes articles. #stopthesteal & #fightback. HEY LET'S LOOK AT Gtv.org it's a big gun. Proof perfect that he was constantly leaking, lying, and taking our cities and states?. TRUMP TOWER.... 🤣😂. As of now our timelines are filled with parents that got him arrested and charged with Election Manipulation? Both have done nothing wrong”😂🤣😂🤣😂🤣😂🤣😂. @REDLISTED Sure have free speech, you were black and has never happened before. Answer...... Never!\n",
            "\n"
          ]
        }
      ]
    },
    {
      "cell_type": "code",
      "metadata": {
        "colab": {
          "base_uri": "https://localhost:8080/"
        },
        "id": "Cz44bPAp4Zox",
        "outputId": "b4f622be-2e16-4351-ab8c-9b631834b53f"
      },
      "source": [
        "rant(story_model3, 1, 500)"
      ],
      "execution_count": 25,
      "outputs": [
        {
          "output_type": "stream",
          "name": "stdout",
          "text": [
            "Three weeks after Election Day, all 538 electoral votes have been overturned and judges have declared the mail in votes and absentee ballots, just like I’m not afraid to die this way, why are you donating to Democrat’s but pretend to be whatever you want to do a few minutes searching for what really happened. I too had believed the media lies. They are truly the only way you get to make assumptions about you. 1. You're probably homophobic and 2. Your echo chamber told you there was fraud. So therefore we know it MAY not be accurate depending on the situation the officer is within his right\n",
            "\n"
          ]
        }
      ]
    },
    {
      "cell_type": "code",
      "metadata": {
        "colab": {
          "base_uri": "https://localhost:8080/"
        },
        "id": "L1CX5Hx04Zgu",
        "outputId": "90b1dd39-aff3-4cc3-e7a5-e140dffe428a"
      },
      "source": [
        "rant(story_model4, 1, 200)"
      ],
      "execution_count": 26,
      "outputs": [
        {
          "output_type": "stream",
          "name": "stdout",
          "text": [
            "That's one way to look at that event, here's another way to look at that event, here's another way to look at that event, here's another way to look at that event, here's another way to look at that event, here's another way to look at that event, here's another way to look at the actions of politicians instead of just thier words.\n",
            "\n"
          ]
        }
      ]
    },
    {
      "cell_type": "code",
      "metadata": {
        "colab": {
          "base_uri": "https://localhost:8080/"
        },
        "id": "rOsSwcDR4ZXw",
        "outputId": "bf9bb068-58ea-4276-d61a-ee752b2483b3"
      },
      "source": [
        "rant(story_model5, 1, 200)"
      ],
      "execution_count": 27,
      "outputs": [
        {
          "output_type": "stream",
          "name": "stdout",
          "text": [
            "@moon52 @deplorableearl @fatherofessen @hadati @janaurora @lakemonstercl @mickelodoole @sezz @ak1coleman @carolsievers88 @cmccbyfaith @tc69 @pinkk9lover @meetmichael @phoenixrising @leroy @johnbugaj @lipstickandyellowroses @lorettashere @willywonka @barnett20todd @allbeckyb @bobbym625\n",
            "\n"
          ]
        }
      ]
    },
    {
      "cell_type": "markdown",
      "metadata": {
        "id": "fKoS2pMliUXN"
      },
      "source": [
        "## Other models to come\n",
        "> Using NLTK ngrams"
      ]
    },
    {
      "cell_type": "code",
      "metadata": {
        "colab": {
          "base_uri": "https://localhost:8080/"
        },
        "id": "vxZ9Ai11iOiO",
        "outputId": "baa1e4a6-3d1a-443f-f5ce-f1464f058a59"
      },
      "source": [
        "text = storybook\n",
        "n = 2\n",
        "\n",
        "n_grams = list(ngrams(text.split(), n))\n",
        "\n",
        "sentence = ''\n",
        "\n",
        "for i in range(5):\n",
        "    r = random.randint(0,50)\n",
        "    next_word = n_grams[r]\n",
        "    sentence = sentence + ' ' + str(next_word)\n",
        "\n",
        "print(sentence)"
      ],
      "execution_count": 28,
      "outputs": [
        {
          "output_type": "stream",
          "name": "stdout",
          "text": [
            " ('THEY', 'GIVE') ('Hodkinson,', 'Chairman') ('🏴\\U000e0067\\U000e0062\\U000e0065\\U000e006e\\U000e0067\\U000e007f🇬🇧👍.', 'ALL') ('TOO', 'Dr.') ('Physicians', 'and')\n"
          ]
        }
      ]
    },
    {
      "cell_type": "code",
      "metadata": {
        "id": "1DAA-BzgihId"
      },
      "source": [
        ""
      ],
      "execution_count": 28,
      "outputs": []
    }
  ]
}